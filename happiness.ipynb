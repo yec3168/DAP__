{
  "nbformat": 4,
  "nbformat_minor": 0,
  "metadata": {
    "colab": {
      "name": "happiness.ipynb",
      "provenance": [],
      "collapsed_sections": [],
      "authorship_tag": "ABX9TyNt5MtM7X+l+D4aW5R9h11W",
      "include_colab_link": true
    },
    "kernelspec": {
      "name": "python3",
      "display_name": "Python 3"
    },
    "language_info": {
      "name": "python"
    }
  },
  "cells": [
    {
      "cell_type": "markdown",
      "metadata": {
        "id": "view-in-github",
        "colab_type": "text"
      },
      "source": [
        "<a href=\"https://colab.research.google.com/github/yec3168/DAP__/blob/main/happiness.ipynb\" target=\"_parent\"><img src=\"https://colab.research.google.com/assets/colab-badge.svg\" alt=\"Open In Colab\"/></a>"
      ]
    },
    {
      "cell_type": "markdown",
      "metadata": {
        "id": "Dz59WyOolesl"
      },
      "source": [
        "# **World Happiness 데이터 분석**\n",
        "\n",
        "                                                                          201812033 연응찬 \n",
        "이번에 제가 조사할 데이터는 World Happiness로 전 세계의 행복도를 분석하는 것입니다.\n",
        "\n",
        "2015년부터 2019년의 데이터를 바탕으로 하고 있으며\n",
        "1인당 GDP, 가족, 건강(기대 수명), 자유, 관대함, 신뢰 정부 부패와 같은 요소들이 각 국가의 행복을 평가하는 데 기여하는 정도를 설명 하고 있고, 앞서 말한 요소들에 의해 각 국가의 행복지수를 평가해 점수를 매깁니다.\n",
        "\n",
        "주된 목표로는 각 요소들이 행복 지수에 얼마나 기여하고 있는지 분석하고 그것을 시각화 하는 것을 목표로 하고 진행 하겠습니다.\n",
        "\n"
      ]
    },
    {
      "cell_type": "markdown",
      "metadata": {
        "id": "zhYWscFJk4V9"
      },
      "source": [
        "## **Kaggle에서 Datasheet 불러오기**\n",
        "\n"
      ]
    },
    {
      "cell_type": "markdown",
      "metadata": {
        "id": "ldWfFH0uZOUx"
      },
      "source": [
        "▶**Kaggle** 데이터 시트를 구글 **Colab**에 불러와 사용할수 있도록 하기 위해서는  필수적인 작업이 있다.\n",
        "\n",
        " 아래 작업이 kaggle에 데이터시트를 가져와서 사용하는 방법이다. \n",
        "\n",
        " 먼저, Kaggle에 들어가 로그인을 하고, 메뉴에서 Account에 들어가 Create New API Token을 눌러 Kaggle.json파일을 다운받는다.\n",
        " \n",
        " 그리고 Colab에 아래코드를 복사해 붙여놓고 파일선택으로 아까 다운받은 Kaggle.json파일을 선택한다."
      ]
    },
    {
      "cell_type": "code",
      "metadata": {
        "colab": {
          "resources": {
            "http://localhost:8080/nbextensions/google.colab/files.js": {
              "data": "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",
              "ok": true,
              "headers": [
                [
                  "content-type",
                  "application/javascript"
                ]
              ],
              "status": 200,
              "status_text": ""
            }
          },
          "base_uri": "https://localhost:8080/",
          "height": 297
        },
        "id": "p12tw2jqpwOa",
        "outputId": "fd7ed931-6f43-4a95-f7a1-bcb285a91be9"
      },
      "source": [
        "#@title 기본 제목 텍스트\n",
        "# API Token 다운받기\n",
        "# 다운받은 API Token 업로드 하기\n",
        "!pip install kaggle\n",
        "from google.colab import files\n",
        "files.upload()"
      ],
      "execution_count": null,
      "outputs": [
        {
          "output_type": "stream",
          "name": "stdout",
          "text": [
            "Requirement already satisfied: kaggle in /usr/local/lib/python3.7/dist-packages (1.5.12)\n",
            "Requirement already satisfied: six>=1.10 in /usr/local/lib/python3.7/dist-packages (from kaggle) (1.15.0)\n",
            "Requirement already satisfied: python-slugify in /usr/local/lib/python3.7/dist-packages (from kaggle) (5.0.2)\n",
            "Requirement already satisfied: tqdm in /usr/local/lib/python3.7/dist-packages (from kaggle) (4.62.3)\n",
            "Requirement already satisfied: urllib3 in /usr/local/lib/python3.7/dist-packages (from kaggle) (1.24.3)\n",
            "Requirement already satisfied: certifi in /usr/local/lib/python3.7/dist-packages (from kaggle) (2021.10.8)\n",
            "Requirement already satisfied: python-dateutil in /usr/local/lib/python3.7/dist-packages (from kaggle) (2.8.2)\n",
            "Requirement already satisfied: requests in /usr/local/lib/python3.7/dist-packages (from kaggle) (2.23.0)\n",
            "Requirement already satisfied: text-unidecode>=1.3 in /usr/local/lib/python3.7/dist-packages (from python-slugify->kaggle) (1.3)\n",
            "Requirement already satisfied: idna<3,>=2.5 in /usr/local/lib/python3.7/dist-packages (from requests->kaggle) (2.10)\n",
            "Requirement already satisfied: chardet<4,>=3.0.2 in /usr/local/lib/python3.7/dist-packages (from requests->kaggle) (3.0.4)\n"
          ]
        },
        {
          "output_type": "display_data",
          "data": {
            "text/html": [
              "\n",
              "     <input type=\"file\" id=\"files-7e193920-b5df-4429-8805-4a1f48eb5058\" name=\"files[]\" multiple disabled\n",
              "        style=\"border:none\" />\n",
              "     <output id=\"result-7e193920-b5df-4429-8805-4a1f48eb5058\">\n",
              "      Upload widget is only available when the cell has been executed in the\n",
              "      current browser session. Please rerun this cell to enable.\n",
              "      </output>\n",
              "      <script src=\"/nbextensions/google.colab/files.js\"></script> "
            ],
            "text/plain": [
              "<IPython.core.display.HTML object>"
            ]
          },
          "metadata": {}
        },
        {
          "output_type": "stream",
          "name": "stdout",
          "text": [
            "Saving kaggle.json to kaggle.json\n"
          ]
        },
        {
          "output_type": "execute_result",
          "data": {
            "text/plain": [
              "{'kaggle.json': b'{\"username\":\"yeonec\",\"key\":\"c3d16950a73eda7d5d808e6cf6495598\"}'}"
            ]
          },
          "metadata": {},
          "execution_count": 1
        }
      ]
    },
    {
      "cell_type": "markdown",
      "metadata": {
        "id": "C4VK-XwhBbMC"
      },
      "source": [
        "아래 코드는 아까 넣은 파일이 제대로 업로드 되었는지 확인하는 것이다."
      ]
    },
    {
      "cell_type": "code",
      "metadata": {
        "colab": {
          "base_uri": "https://localhost:8080/"
        },
        "id": "ycR0Y9E0bzq8",
        "outputId": "e4eb620b-24ea-4464-f3fa-ecdddde74edc"
      },
      "source": [
        "ls -1ha kaggle.json"
      ],
      "execution_count": null,
      "outputs": [
        {
          "output_type": "stream",
          "name": "stdout",
          "text": [
            "kaggle.json\n"
          ]
        }
      ]
    },
    {
      "cell_type": "markdown",
      "metadata": {
        "id": "iz9MrjeHBpVT"
      },
      "source": [
        "아래 작업은 Kaggle API 를 사용하기 위해서 json 파일을 ~/.kaggle로 이동 시키는 작업이다."
      ]
    },
    {
      "cell_type": "code",
      "metadata": {
        "id": "NfHpRYnsbnWs"
      },
      "source": [
        "# json 파일 옮겨주기\n",
        "!mkdir -p ~/.kaggle\n",
        "!cp kaggle.json ~/.kaggle/\n",
        "\n",
        "# Permission Warning 이 일어나지 않도록 \n",
        "!chmod 600 ~/.kaggle/kaggle.json"
      ],
      "execution_count": null,
      "outputs": []
    },
    {
      "cell_type": "markdown",
      "metadata": {
        "id": "kKsgrqS3CEQQ"
      },
      "source": [
        "내가 사용할 데이터시트를 사용하기 위한 작업이다."
      ]
    },
    {
      "cell_type": "code",
      "metadata": {
        "id": "TGsusCVBZksm",
        "colab": {
          "base_uri": "https://localhost:8080/"
        },
        "outputId": "3e002d5f-1ac0-4cd1-d5e3-96b23ca7d6c1"
      },
      "source": [
        "!kaggle datasets download -d unsdsn/world-happiness\n",
        "\n",
        "!ls"
      ],
      "execution_count": null,
      "outputs": [
        {
          "output_type": "stream",
          "name": "stdout",
          "text": [
            "401 - Unauthorized\n",
            "kaggle.json  sample_data\n"
          ]
        }
      ]
    },
    {
      "cell_type": "code",
      "metadata": {
        "colab": {
          "base_uri": "https://localhost:8080/"
        },
        "id": "Mt6FXsqol7Za",
        "outputId": "ed731da6-05d9-4dbe-a476-14d9ca77c549"
      },
      "source": [
        "!unzip archive.zip"
      ],
      "execution_count": null,
      "outputs": [
        {
          "output_type": "stream",
          "name": "stdout",
          "text": [
            "Archive:  archive.zip\n",
            "  inflating: 2015.csv                \n",
            "  inflating: 2016.csv                \n",
            "  inflating: 2017.csv                \n",
            "  inflating: 2018.csv                \n",
            "  inflating: 2019.csv                \n"
          ]
        }
      ]
    },
    {
      "cell_type": "markdown",
      "metadata": {
        "id": "SLzcKSkObJMP"
      },
      "source": [
        "압축을 풀면 아래 사진과 같은 파일이 생성된다.\n",
        "\n",
        "![image.png](data:image/png;base64,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)"
      ]
    },
    {
      "cell_type": "markdown",
      "metadata": {
        "id": "j25rDFxMrZ4y"
      },
      "source": [
        "# 데이터 읽기\n",
        "\n",
        "\n"
      ]
    },
    {
      "cell_type": "markdown",
      "metadata": {
        "id": "Nk1zrVtEZPWW"
      },
      "source": [
        "이번에 분석할 데이터는 전 세계의 행복도 조사이다. 앞에서 말했듯이 2015년부터 2019년까지의 데이터가 있다."
      ]
    },
    {
      "cell_type": "code",
      "metadata": {
        "id": "iSXTIU5UkDVg"
      },
      "source": [
        "import numpy as np\n",
        "import pandas as pd\n",
        "\n",
        "import matplotlib.pyplot as plt"
      ],
      "execution_count": null,
      "outputs": []
    },
    {
      "cell_type": "code",
      "metadata": {
        "id": "jqwAFG5YlKpn",
        "colab": {
          "base_uri": "https://localhost:8080/",
          "height": 458
        },
        "outputId": "7a0d7013-6a90-4b9a-916d-71de047a9bbf"
      },
      "source": [
        "data_2015= pd.read_csv('./2015.csv')\n",
        "data_2016= pd.read_csv('./2016.csv')\n",
        "data_2017= pd.read_csv('./2017.csv')\n",
        "data_2018= pd.read_csv('./2018.csv')\n",
        "data_2019= pd.read_csv('./2019.csv')\n",
        "data_2015"
      ],
      "execution_count": null,
      "outputs": [
        {
          "output_type": "execute_result",
          "data": {
            "text/html": [
              "<div>\n",
              "<style scoped>\n",
              "    .dataframe tbody tr th:only-of-type {\n",
              "        vertical-align: middle;\n",
              "    }\n",
              "\n",
              "    .dataframe tbody tr th {\n",
              "        vertical-align: top;\n",
              "    }\n",
              "\n",
              "    .dataframe thead th {\n",
              "        text-align: right;\n",
              "    }\n",
              "</style>\n",
              "<table border=\"1\" class=\"dataframe\">\n",
              "  <thead>\n",
              "    <tr style=\"text-align: right;\">\n",
              "      <th></th>\n",
              "      <th>Country</th>\n",
              "      <th>Region</th>\n",
              "      <th>Happiness Rank</th>\n",
              "      <th>Happiness Score</th>\n",
              "      <th>Standard Error</th>\n",
              "      <th>Economy (GDP per Capita)</th>\n",
              "      <th>Family</th>\n",
              "      <th>Health (Life Expectancy)</th>\n",
              "      <th>Freedom</th>\n",
              "      <th>Trust (Government Corruption)</th>\n",
              "      <th>Generosity</th>\n",
              "      <th>Dystopia Residual</th>\n",
              "    </tr>\n",
              "  </thead>\n",
              "  <tbody>\n",
              "    <tr>\n",
              "      <th>0</th>\n",
              "      <td>Switzerland</td>\n",
              "      <td>Western Europe</td>\n",
              "      <td>1</td>\n",
              "      <td>7.587</td>\n",
              "      <td>0.03411</td>\n",
              "      <td>1.39651</td>\n",
              "      <td>1.34951</td>\n",
              "      <td>0.94143</td>\n",
              "      <td>0.66557</td>\n",
              "      <td>0.41978</td>\n",
              "      <td>0.29678</td>\n",
              "      <td>2.51738</td>\n",
              "    </tr>\n",
              "    <tr>\n",
              "      <th>1</th>\n",
              "      <td>Iceland</td>\n",
              "      <td>Western Europe</td>\n",
              "      <td>2</td>\n",
              "      <td>7.561</td>\n",
              "      <td>0.04884</td>\n",
              "      <td>1.30232</td>\n",
              "      <td>1.40223</td>\n",
              "      <td>0.94784</td>\n",
              "      <td>0.62877</td>\n",
              "      <td>0.14145</td>\n",
              "      <td>0.43630</td>\n",
              "      <td>2.70201</td>\n",
              "    </tr>\n",
              "    <tr>\n",
              "      <th>2</th>\n",
              "      <td>Denmark</td>\n",
              "      <td>Western Europe</td>\n",
              "      <td>3</td>\n",
              "      <td>7.527</td>\n",
              "      <td>0.03328</td>\n",
              "      <td>1.32548</td>\n",
              "      <td>1.36058</td>\n",
              "      <td>0.87464</td>\n",
              "      <td>0.64938</td>\n",
              "      <td>0.48357</td>\n",
              "      <td>0.34139</td>\n",
              "      <td>2.49204</td>\n",
              "    </tr>\n",
              "    <tr>\n",
              "      <th>3</th>\n",
              "      <td>Norway</td>\n",
              "      <td>Western Europe</td>\n",
              "      <td>4</td>\n",
              "      <td>7.522</td>\n",
              "      <td>0.03880</td>\n",
              "      <td>1.45900</td>\n",
              "      <td>1.33095</td>\n",
              "      <td>0.88521</td>\n",
              "      <td>0.66973</td>\n",
              "      <td>0.36503</td>\n",
              "      <td>0.34699</td>\n",
              "      <td>2.46531</td>\n",
              "    </tr>\n",
              "    <tr>\n",
              "      <th>4</th>\n",
              "      <td>Canada</td>\n",
              "      <td>North America</td>\n",
              "      <td>5</td>\n",
              "      <td>7.427</td>\n",
              "      <td>0.03553</td>\n",
              "      <td>1.32629</td>\n",
              "      <td>1.32261</td>\n",
              "      <td>0.90563</td>\n",
              "      <td>0.63297</td>\n",
              "      <td>0.32957</td>\n",
              "      <td>0.45811</td>\n",
              "      <td>2.45176</td>\n",
              "    </tr>\n",
              "    <tr>\n",
              "      <th>...</th>\n",
              "      <td>...</td>\n",
              "      <td>...</td>\n",
              "      <td>...</td>\n",
              "      <td>...</td>\n",
              "      <td>...</td>\n",
              "      <td>...</td>\n",
              "      <td>...</td>\n",
              "      <td>...</td>\n",
              "      <td>...</td>\n",
              "      <td>...</td>\n",
              "      <td>...</td>\n",
              "      <td>...</td>\n",
              "    </tr>\n",
              "    <tr>\n",
              "      <th>153</th>\n",
              "      <td>Rwanda</td>\n",
              "      <td>Sub-Saharan Africa</td>\n",
              "      <td>154</td>\n",
              "      <td>3.465</td>\n",
              "      <td>0.03464</td>\n",
              "      <td>0.22208</td>\n",
              "      <td>0.77370</td>\n",
              "      <td>0.42864</td>\n",
              "      <td>0.59201</td>\n",
              "      <td>0.55191</td>\n",
              "      <td>0.22628</td>\n",
              "      <td>0.67042</td>\n",
              "    </tr>\n",
              "    <tr>\n",
              "      <th>154</th>\n",
              "      <td>Benin</td>\n",
              "      <td>Sub-Saharan Africa</td>\n",
              "      <td>155</td>\n",
              "      <td>3.340</td>\n",
              "      <td>0.03656</td>\n",
              "      <td>0.28665</td>\n",
              "      <td>0.35386</td>\n",
              "      <td>0.31910</td>\n",
              "      <td>0.48450</td>\n",
              "      <td>0.08010</td>\n",
              "      <td>0.18260</td>\n",
              "      <td>1.63328</td>\n",
              "    </tr>\n",
              "    <tr>\n",
              "      <th>155</th>\n",
              "      <td>Syria</td>\n",
              "      <td>Middle East and Northern Africa</td>\n",
              "      <td>156</td>\n",
              "      <td>3.006</td>\n",
              "      <td>0.05015</td>\n",
              "      <td>0.66320</td>\n",
              "      <td>0.47489</td>\n",
              "      <td>0.72193</td>\n",
              "      <td>0.15684</td>\n",
              "      <td>0.18906</td>\n",
              "      <td>0.47179</td>\n",
              "      <td>0.32858</td>\n",
              "    </tr>\n",
              "    <tr>\n",
              "      <th>156</th>\n",
              "      <td>Burundi</td>\n",
              "      <td>Sub-Saharan Africa</td>\n",
              "      <td>157</td>\n",
              "      <td>2.905</td>\n",
              "      <td>0.08658</td>\n",
              "      <td>0.01530</td>\n",
              "      <td>0.41587</td>\n",
              "      <td>0.22396</td>\n",
              "      <td>0.11850</td>\n",
              "      <td>0.10062</td>\n",
              "      <td>0.19727</td>\n",
              "      <td>1.83302</td>\n",
              "    </tr>\n",
              "    <tr>\n",
              "      <th>157</th>\n",
              "      <td>Togo</td>\n",
              "      <td>Sub-Saharan Africa</td>\n",
              "      <td>158</td>\n",
              "      <td>2.839</td>\n",
              "      <td>0.06727</td>\n",
              "      <td>0.20868</td>\n",
              "      <td>0.13995</td>\n",
              "      <td>0.28443</td>\n",
              "      <td>0.36453</td>\n",
              "      <td>0.10731</td>\n",
              "      <td>0.16681</td>\n",
              "      <td>1.56726</td>\n",
              "    </tr>\n",
              "  </tbody>\n",
              "</table>\n",
              "<p>158 rows × 12 columns</p>\n",
              "</div>"
            ],
            "text/plain": [
              "         Country  ... Dystopia Residual\n",
              "0    Switzerland  ...           2.51738\n",
              "1        Iceland  ...           2.70201\n",
              "2        Denmark  ...           2.49204\n",
              "3         Norway  ...           2.46531\n",
              "4         Canada  ...           2.45176\n",
              "..           ...  ...               ...\n",
              "153       Rwanda  ...           0.67042\n",
              "154        Benin  ...           1.63328\n",
              "155        Syria  ...           0.32858\n",
              "156      Burundi  ...           1.83302\n",
              "157         Togo  ...           1.56726\n",
              "\n",
              "[158 rows x 12 columns]"
            ]
          },
          "metadata": {},
          "execution_count": 67
        }
      ]
    },
    {
      "cell_type": "markdown",
      "metadata": {
        "id": "E3YuDuV3ai8x"
      },
      "source": [
        "2018년 데이터에는 Perceptions of corruption 열에 Misiing data가 있는 것을 확인할 수 있다."
      ]
    },
    {
      "cell_type": "code",
      "metadata": {
        "colab": {
          "base_uri": "https://localhost:8080/"
        },
        "id": "hFMezh5_Qhf2",
        "outputId": "c960c55b-236e-4f36-afdf-2580b7f2ebad"
      },
      "source": [
        "print(\"====================2015년======================\")\n",
        "print(data_2015.isnull().sum())\n",
        "print(\"====================2016년======================\")\n",
        "print(data_2016.isnull().sum())\n",
        "print(\"====================2017년======================\")\n",
        "print(data_2017.isnull().sum())\n",
        "print(\"====================2018년======================\")\n",
        "print(data_2018.isnull().sum())\n",
        "print(\"====================2019년======================\")\n",
        "print(data_2019.isnull().sum())"
      ],
      "execution_count": null,
      "outputs": [
        {
          "output_type": "stream",
          "name": "stdout",
          "text": [
            "====================2015년======================\n",
            "Country                          0\n",
            "Region                           0\n",
            "Happiness Rank                   0\n",
            "Happiness Score                  0\n",
            "Standard Error                   0\n",
            "Economy (GDP per Capita)         0\n",
            "Family                           0\n",
            "Health (Life Expectancy)         0\n",
            "Freedom                          0\n",
            "Trust (Government Corruption)    0\n",
            "Generosity                       0\n",
            "Dystopia Residual                0\n",
            "dtype: int64\n",
            "====================2016년======================\n",
            "Country                          0\n",
            "Region                           0\n",
            "Happiness Rank                   0\n",
            "Happiness Score                  0\n",
            "Lower Confidence Interval        0\n",
            "Upper Confidence Interval        0\n",
            "Economy (GDP per Capita)         0\n",
            "Family                           0\n",
            "Health (Life Expectancy)         0\n",
            "Freedom                          0\n",
            "Trust (Government Corruption)    0\n",
            "Generosity                       0\n",
            "Dystopia Residual                0\n",
            "dtype: int64\n",
            "====================2017년======================\n",
            "Country                          0\n",
            "Happiness.Rank                   0\n",
            "Happiness.Score                  0\n",
            "Whisker.high                     0\n",
            "Whisker.low                      0\n",
            "Economy..GDP.per.Capita.         0\n",
            "Family                           0\n",
            "Health..Life.Expectancy.         0\n",
            "Freedom                          0\n",
            "Generosity                       0\n",
            "Trust..Government.Corruption.    0\n",
            "Dystopia.Residual                0\n",
            "dtype: int64\n",
            "====================2018년======================\n",
            "Overall rank                    0\n",
            "Country or region               0\n",
            "Score                           0\n",
            "GDP per capita                  0\n",
            "Social support                  0\n",
            "Healthy life expectancy         0\n",
            "Freedom to make life choices    0\n",
            "Generosity                      0\n",
            "Perceptions of corruption       1\n",
            "dtype: int64\n",
            "====================2019년======================\n",
            "Overall rank                    0\n",
            "Country or region               0\n",
            "Score                           0\n",
            "GDP per capita                  0\n",
            "Social support                  0\n",
            "Healthy life expectancy         0\n",
            "Freedom to make life choices    0\n",
            "Generosity                      0\n",
            "Perceptions of corruption       0\n",
            "dtype: int64\n"
          ]
        }
      ]
    },
    {
      "cell_type": "markdown",
      "metadata": {
        "id": "wD307Gi5bqfN"
      },
      "source": [
        "전 작업에서 발견한 2018년 데이터에 NAN값을 '가장 빈번하게'나온 값으로 채워넣은 작업이다. \n",
        "\n",
        "빠르고 간단하지만, 정확하지가 않다."
      ]
    },
    {
      "cell_type": "code",
      "metadata": {
        "colab": {
          "base_uri": "https://localhost:8080/"
        },
        "id": "eeaBlyihRGhC",
        "outputId": "061136c5-bb63-4556-b61f-2388c43ce317"
      },
      "source": [
        "from sklearn.impute import SimpleImputer\n",
        "\n",
        "ndata_2018 = SimpleImputer(missing_values=np.nan, strategy = 'most_frequent')\n",
        "ndata_2018.fit(data_2018)\n",
        "\n",
        "ndata_2018 = pd.DataFrame(ndata_2018.transform(data_2018), columns= data_2018.columns)\n",
        "ndata_2018.isnull().sum()"
      ],
      "execution_count": null,
      "outputs": [
        {
          "output_type": "execute_result",
          "data": {
            "text/plain": [
              "Overall rank                    0\n",
              "Country or region               0\n",
              "Score                           0\n",
              "GDP per capita                  0\n",
              "Social support                  0\n",
              "Healthy life expectancy         0\n",
              "Freedom to make life choices    0\n",
              "Generosity                      0\n",
              "Perceptions of corruption       0\n",
              "dtype: int64"
            ]
          },
          "metadata": {},
          "execution_count": 69
        }
      ]
    },
    {
      "cell_type": "markdown",
      "metadata": {
        "id": "S-teTbcrHVp4"
      },
      "source": [
        "2015년부터 2019년까지 각 column들의 명칭이 다르기 때문에 통일을 해준다."
      ]
    },
    {
      "cell_type": "code",
      "metadata": {
        "colab": {
          "base_uri": "https://localhost:8080/",
          "height": 175
        },
        "id": "u6VuwDYEgZ3F",
        "outputId": "54e9fa3c-0c8e-45b0-c403-8ad8d644d089"
      },
      "source": [
        "data_2015.drop([\"Region\",\"Standard Error\", \"Dystopia Residual\"], axis = 1, inplace=True)\n",
        "\n",
        "data_2015 = data_2015.rename(columns={'Economy (GDP per Capita)': \"GDP per Capita\",\n",
        "                                      'Health (Life Expectancy)': 'Health',\n",
        "                                      'Trust (Government Corruption)':'Trust'})\n",
        "\n",
        "data_2015.head(4)"
      ],
      "execution_count": null,
      "outputs": [
        {
          "output_type": "execute_result",
          "data": {
            "text/html": [
              "<div>\n",
              "<style scoped>\n",
              "    .dataframe tbody tr th:only-of-type {\n",
              "        vertical-align: middle;\n",
              "    }\n",
              "\n",
              "    .dataframe tbody tr th {\n",
              "        vertical-align: top;\n",
              "    }\n",
              "\n",
              "    .dataframe thead th {\n",
              "        text-align: right;\n",
              "    }\n",
              "</style>\n",
              "<table border=\"1\" class=\"dataframe\">\n",
              "  <thead>\n",
              "    <tr style=\"text-align: right;\">\n",
              "      <th></th>\n",
              "      <th>Country</th>\n",
              "      <th>Happiness Rank</th>\n",
              "      <th>Happiness Score</th>\n",
              "      <th>GDP per Capita</th>\n",
              "      <th>Family</th>\n",
              "      <th>Health</th>\n",
              "      <th>Freedom</th>\n",
              "      <th>Trust</th>\n",
              "      <th>Generosity</th>\n",
              "    </tr>\n",
              "  </thead>\n",
              "  <tbody>\n",
              "    <tr>\n",
              "      <th>0</th>\n",
              "      <td>Switzerland</td>\n",
              "      <td>1</td>\n",
              "      <td>7.587</td>\n",
              "      <td>1.39651</td>\n",
              "      <td>1.34951</td>\n",
              "      <td>0.94143</td>\n",
              "      <td>0.66557</td>\n",
              "      <td>0.41978</td>\n",
              "      <td>0.29678</td>\n",
              "    </tr>\n",
              "    <tr>\n",
              "      <th>1</th>\n",
              "      <td>Iceland</td>\n",
              "      <td>2</td>\n",
              "      <td>7.561</td>\n",
              "      <td>1.30232</td>\n",
              "      <td>1.40223</td>\n",
              "      <td>0.94784</td>\n",
              "      <td>0.62877</td>\n",
              "      <td>0.14145</td>\n",
              "      <td>0.43630</td>\n",
              "    </tr>\n",
              "    <tr>\n",
              "      <th>2</th>\n",
              "      <td>Denmark</td>\n",
              "      <td>3</td>\n",
              "      <td>7.527</td>\n",
              "      <td>1.32548</td>\n",
              "      <td>1.36058</td>\n",
              "      <td>0.87464</td>\n",
              "      <td>0.64938</td>\n",
              "      <td>0.48357</td>\n",
              "      <td>0.34139</td>\n",
              "    </tr>\n",
              "    <tr>\n",
              "      <th>3</th>\n",
              "      <td>Norway</td>\n",
              "      <td>4</td>\n",
              "      <td>7.522</td>\n",
              "      <td>1.45900</td>\n",
              "      <td>1.33095</td>\n",
              "      <td>0.88521</td>\n",
              "      <td>0.66973</td>\n",
              "      <td>0.36503</td>\n",
              "      <td>0.34699</td>\n",
              "    </tr>\n",
              "  </tbody>\n",
              "</table>\n",
              "</div>"
            ],
            "text/plain": [
              "       Country  Happiness Rank  Happiness Score  ...  Freedom    Trust  Generosity\n",
              "0  Switzerland               1            7.587  ...  0.66557  0.41978     0.29678\n",
              "1      Iceland               2            7.561  ...  0.62877  0.14145     0.43630\n",
              "2      Denmark               3            7.527  ...  0.64938  0.48357     0.34139\n",
              "3       Norway               4            7.522  ...  0.66973  0.36503     0.34699\n",
              "\n",
              "[4 rows x 9 columns]"
            ]
          },
          "metadata": {},
          "execution_count": 70
        }
      ]
    },
    {
      "cell_type": "code",
      "metadata": {
        "colab": {
          "base_uri": "https://localhost:8080/",
          "height": 175
        },
        "id": "FKWebRpnwGcq",
        "outputId": "d3da4dff-ece1-41a5-b961-250b26c22833"
      },
      "source": [
        "data_2016.drop([\"Region\",\"Lower Confidence Interval\", \"Upper Confidence Interval\",\"Dystopia Residual\"], axis = 1, inplace=True)\n",
        "\n",
        "data_2016 = data_2016.rename(columns={\"Economy (GDP per Capita)\": \"GDP per Capita\",\n",
        "                                      \"Health (Life Expectancy)\": \"Health\",\n",
        "                                      \"Trust (Government Corruption)\":\"Trust\"})\n",
        "\n",
        "data_2016.head(4)"
      ],
      "execution_count": null,
      "outputs": [
        {
          "output_type": "execute_result",
          "data": {
            "text/html": [
              "<div>\n",
              "<style scoped>\n",
              "    .dataframe tbody tr th:only-of-type {\n",
              "        vertical-align: middle;\n",
              "    }\n",
              "\n",
              "    .dataframe tbody tr th {\n",
              "        vertical-align: top;\n",
              "    }\n",
              "\n",
              "    .dataframe thead th {\n",
              "        text-align: right;\n",
              "    }\n",
              "</style>\n",
              "<table border=\"1\" class=\"dataframe\">\n",
              "  <thead>\n",
              "    <tr style=\"text-align: right;\">\n",
              "      <th></th>\n",
              "      <th>Country</th>\n",
              "      <th>Happiness Rank</th>\n",
              "      <th>Happiness Score</th>\n",
              "      <th>GDP per Capita</th>\n",
              "      <th>Family</th>\n",
              "      <th>Health</th>\n",
              "      <th>Freedom</th>\n",
              "      <th>Trust</th>\n",
              "      <th>Generosity</th>\n",
              "    </tr>\n",
              "  </thead>\n",
              "  <tbody>\n",
              "    <tr>\n",
              "      <th>0</th>\n",
              "      <td>Denmark</td>\n",
              "      <td>1</td>\n",
              "      <td>7.526</td>\n",
              "      <td>1.44178</td>\n",
              "      <td>1.16374</td>\n",
              "      <td>0.79504</td>\n",
              "      <td>0.57941</td>\n",
              "      <td>0.44453</td>\n",
              "      <td>0.36171</td>\n",
              "    </tr>\n",
              "    <tr>\n",
              "      <th>1</th>\n",
              "      <td>Switzerland</td>\n",
              "      <td>2</td>\n",
              "      <td>7.509</td>\n",
              "      <td>1.52733</td>\n",
              "      <td>1.14524</td>\n",
              "      <td>0.86303</td>\n",
              "      <td>0.58557</td>\n",
              "      <td>0.41203</td>\n",
              "      <td>0.28083</td>\n",
              "    </tr>\n",
              "    <tr>\n",
              "      <th>2</th>\n",
              "      <td>Iceland</td>\n",
              "      <td>3</td>\n",
              "      <td>7.501</td>\n",
              "      <td>1.42666</td>\n",
              "      <td>1.18326</td>\n",
              "      <td>0.86733</td>\n",
              "      <td>0.56624</td>\n",
              "      <td>0.14975</td>\n",
              "      <td>0.47678</td>\n",
              "    </tr>\n",
              "    <tr>\n",
              "      <th>3</th>\n",
              "      <td>Norway</td>\n",
              "      <td>4</td>\n",
              "      <td>7.498</td>\n",
              "      <td>1.57744</td>\n",
              "      <td>1.12690</td>\n",
              "      <td>0.79579</td>\n",
              "      <td>0.59609</td>\n",
              "      <td>0.35776</td>\n",
              "      <td>0.37895</td>\n",
              "    </tr>\n",
              "  </tbody>\n",
              "</table>\n",
              "</div>"
            ],
            "text/plain": [
              "       Country  Happiness Rank  Happiness Score  ...  Freedom    Trust  Generosity\n",
              "0      Denmark               1            7.526  ...  0.57941  0.44453     0.36171\n",
              "1  Switzerland               2            7.509  ...  0.58557  0.41203     0.28083\n",
              "2      Iceland               3            7.501  ...  0.56624  0.14975     0.47678\n",
              "3       Norway               4            7.498  ...  0.59609  0.35776     0.37895\n",
              "\n",
              "[4 rows x 9 columns]"
            ]
          },
          "metadata": {},
          "execution_count": 71
        }
      ]
    },
    {
      "cell_type": "code",
      "metadata": {
        "colab": {
          "base_uri": "https://localhost:8080/",
          "height": 175
        },
        "id": "s3DGUnogwo7A",
        "outputId": "cb4f0a02-7500-43b2-c9ad-05b01bc1ddb0"
      },
      "source": [
        "data_2017.drop([\"Whisker.low\",\"Whisker.high\", \"Dystopia.Residual\"], axis = 1, inplace=True)\n",
        "\n",
        "data_2017 = data_2017.rename(columns={'Happiness.Rank': 'Happiness Rank',\n",
        "                                      \"Happiness.Score\": \"Happiness Score\",\n",
        "                                      'Health (Life Expectancy)': 'Health',\n",
        "                                      'Economy..GDP.per.Capita.':'GDP per Capita',\n",
        "                                      \"Health..Life.Expectancy.\": \"Health\",\n",
        "                                      \"Trust..Government.Corruption.\": \"Trust\"})\n",
        "\n",
        "\n",
        "data_2017.head(4)"
      ],
      "execution_count": null,
      "outputs": [
        {
          "output_type": "execute_result",
          "data": {
            "text/html": [
              "<div>\n",
              "<style scoped>\n",
              "    .dataframe tbody tr th:only-of-type {\n",
              "        vertical-align: middle;\n",
              "    }\n",
              "\n",
              "    .dataframe tbody tr th {\n",
              "        vertical-align: top;\n",
              "    }\n",
              "\n",
              "    .dataframe thead th {\n",
              "        text-align: right;\n",
              "    }\n",
              "</style>\n",
              "<table border=\"1\" class=\"dataframe\">\n",
              "  <thead>\n",
              "    <tr style=\"text-align: right;\">\n",
              "      <th></th>\n",
              "      <th>Country</th>\n",
              "      <th>Happiness Rank</th>\n",
              "      <th>Happiness Score</th>\n",
              "      <th>GDP per Capita</th>\n",
              "      <th>Family</th>\n",
              "      <th>Health</th>\n",
              "      <th>Freedom</th>\n",
              "      <th>Generosity</th>\n",
              "      <th>Trust</th>\n",
              "    </tr>\n",
              "  </thead>\n",
              "  <tbody>\n",
              "    <tr>\n",
              "      <th>0</th>\n",
              "      <td>Norway</td>\n",
              "      <td>1</td>\n",
              "      <td>7.537</td>\n",
              "      <td>1.616463</td>\n",
              "      <td>1.533524</td>\n",
              "      <td>0.796667</td>\n",
              "      <td>0.635423</td>\n",
              "      <td>0.362012</td>\n",
              "      <td>0.315964</td>\n",
              "    </tr>\n",
              "    <tr>\n",
              "      <th>1</th>\n",
              "      <td>Denmark</td>\n",
              "      <td>2</td>\n",
              "      <td>7.522</td>\n",
              "      <td>1.482383</td>\n",
              "      <td>1.551122</td>\n",
              "      <td>0.792566</td>\n",
              "      <td>0.626007</td>\n",
              "      <td>0.355280</td>\n",
              "      <td>0.400770</td>\n",
              "    </tr>\n",
              "    <tr>\n",
              "      <th>2</th>\n",
              "      <td>Iceland</td>\n",
              "      <td>3</td>\n",
              "      <td>7.504</td>\n",
              "      <td>1.480633</td>\n",
              "      <td>1.610574</td>\n",
              "      <td>0.833552</td>\n",
              "      <td>0.627163</td>\n",
              "      <td>0.475540</td>\n",
              "      <td>0.153527</td>\n",
              "    </tr>\n",
              "    <tr>\n",
              "      <th>3</th>\n",
              "      <td>Switzerland</td>\n",
              "      <td>4</td>\n",
              "      <td>7.494</td>\n",
              "      <td>1.564980</td>\n",
              "      <td>1.516912</td>\n",
              "      <td>0.858131</td>\n",
              "      <td>0.620071</td>\n",
              "      <td>0.290549</td>\n",
              "      <td>0.367007</td>\n",
              "    </tr>\n",
              "  </tbody>\n",
              "</table>\n",
              "</div>"
            ],
            "text/plain": [
              "       Country  Happiness Rank  Happiness Score  ...   Freedom  Generosity     Trust\n",
              "0       Norway               1            7.537  ...  0.635423    0.362012  0.315964\n",
              "1      Denmark               2            7.522  ...  0.626007    0.355280  0.400770\n",
              "2      Iceland               3            7.504  ...  0.627163    0.475540  0.153527\n",
              "3  Switzerland               4            7.494  ...  0.620071    0.290549  0.367007\n",
              "\n",
              "[4 rows x 9 columns]"
            ]
          },
          "metadata": {},
          "execution_count": 72
        }
      ]
    },
    {
      "cell_type": "code",
      "metadata": {
        "colab": {
          "base_uri": "https://localhost:8080/",
          "height": 175
        },
        "id": "tZ3LhOBH0T1_",
        "outputId": "c94c8dda-4acc-441f-9143-47b5b59046f4"
      },
      "source": [
        "ndata_2018 = ndata_2018.rename(columns={\"Country or region\" : \"Country\",\n",
        "                                      \"Overall rank\": \"Happiness Rank\",\n",
        "                                      \"Score\": \"Happiness Score\", \n",
        "                                      \"GDP per capita\": \"GDP per Capita\",\n",
        "                                      \"Social support\": \"Family\",\n",
        "                                      \"Healthy life expectancy\": \"Health\",\n",
        "                                      \"Freedom to make life choices\": \"Freedom\",\n",
        "                                      \"Perceptions of corruption\": \"Trust\"})\n",
        "\n",
        "ndata_2018.head(4)"
      ],
      "execution_count": null,
      "outputs": [
        {
          "output_type": "execute_result",
          "data": {
            "text/html": [
              "<div>\n",
              "<style scoped>\n",
              "    .dataframe tbody tr th:only-of-type {\n",
              "        vertical-align: middle;\n",
              "    }\n",
              "\n",
              "    .dataframe tbody tr th {\n",
              "        vertical-align: top;\n",
              "    }\n",
              "\n",
              "    .dataframe thead th {\n",
              "        text-align: right;\n",
              "    }\n",
              "</style>\n",
              "<table border=\"1\" class=\"dataframe\">\n",
              "  <thead>\n",
              "    <tr style=\"text-align: right;\">\n",
              "      <th></th>\n",
              "      <th>Happiness Rank</th>\n",
              "      <th>Country</th>\n",
              "      <th>Happiness Score</th>\n",
              "      <th>GDP per Capita</th>\n",
              "      <th>Family</th>\n",
              "      <th>Health</th>\n",
              "      <th>Freedom</th>\n",
              "      <th>Generosity</th>\n",
              "      <th>Trust</th>\n",
              "    </tr>\n",
              "  </thead>\n",
              "  <tbody>\n",
              "    <tr>\n",
              "      <th>0</th>\n",
              "      <td>1</td>\n",
              "      <td>Finland</td>\n",
              "      <td>7.632</td>\n",
              "      <td>1.305</td>\n",
              "      <td>1.592</td>\n",
              "      <td>0.874</td>\n",
              "      <td>0.681</td>\n",
              "      <td>0.202</td>\n",
              "      <td>0.393</td>\n",
              "    </tr>\n",
              "    <tr>\n",
              "      <th>1</th>\n",
              "      <td>2</td>\n",
              "      <td>Norway</td>\n",
              "      <td>7.594</td>\n",
              "      <td>1.456</td>\n",
              "      <td>1.582</td>\n",
              "      <td>0.861</td>\n",
              "      <td>0.686</td>\n",
              "      <td>0.286</td>\n",
              "      <td>0.34</td>\n",
              "    </tr>\n",
              "    <tr>\n",
              "      <th>2</th>\n",
              "      <td>3</td>\n",
              "      <td>Denmark</td>\n",
              "      <td>7.555</td>\n",
              "      <td>1.351</td>\n",
              "      <td>1.59</td>\n",
              "      <td>0.868</td>\n",
              "      <td>0.683</td>\n",
              "      <td>0.284</td>\n",
              "      <td>0.408</td>\n",
              "    </tr>\n",
              "    <tr>\n",
              "      <th>3</th>\n",
              "      <td>4</td>\n",
              "      <td>Iceland</td>\n",
              "      <td>7.495</td>\n",
              "      <td>1.343</td>\n",
              "      <td>1.644</td>\n",
              "      <td>0.914</td>\n",
              "      <td>0.677</td>\n",
              "      <td>0.353</td>\n",
              "      <td>0.138</td>\n",
              "    </tr>\n",
              "  </tbody>\n",
              "</table>\n",
              "</div>"
            ],
            "text/plain": [
              "  Happiness Rank  Country Happiness Score  ... Freedom Generosity  Trust\n",
              "0              1  Finland           7.632  ...   0.681      0.202  0.393\n",
              "1              2   Norway           7.594  ...   0.686      0.286   0.34\n",
              "2              3  Denmark           7.555  ...   0.683      0.284  0.408\n",
              "3              4  Iceland           7.495  ...   0.677      0.353  0.138\n",
              "\n",
              "[4 rows x 9 columns]"
            ]
          },
          "metadata": {},
          "execution_count": 73
        }
      ]
    },
    {
      "cell_type": "code",
      "metadata": {
        "colab": {
          "base_uri": "https://localhost:8080/",
          "height": 175
        },
        "id": "Vg7EX3dG4AFK",
        "outputId": "6849ce90-c52f-45c5-9ca8-da15ab8a3de5"
      },
      "source": [
        "data_2019 = data_2019.rename(columns={\"Country or region\" : \"Country\",\n",
        "                                      \"Overall rank\": \"Happiness Rank\",\n",
        "                                      \"Score\": \"Happiness Score\", \n",
        "                                      \"GDP per capita\": \"GDP per Capita\",\n",
        "                                      \"Social support\": \"Family\",\n",
        "                                      \"Healthy life expectancy\": \"Health\",\n",
        "                                      \"Freedom to make life choices\": \"Freedom\",\n",
        "                                      \"Perceptions of corruption\": \"Trust\"})\n",
        "\n",
        "data_2019.head(4)"
      ],
      "execution_count": null,
      "outputs": [
        {
          "output_type": "execute_result",
          "data": {
            "text/html": [
              "<div>\n",
              "<style scoped>\n",
              "    .dataframe tbody tr th:only-of-type {\n",
              "        vertical-align: middle;\n",
              "    }\n",
              "\n",
              "    .dataframe tbody tr th {\n",
              "        vertical-align: top;\n",
              "    }\n",
              "\n",
              "    .dataframe thead th {\n",
              "        text-align: right;\n",
              "    }\n",
              "</style>\n",
              "<table border=\"1\" class=\"dataframe\">\n",
              "  <thead>\n",
              "    <tr style=\"text-align: right;\">\n",
              "      <th></th>\n",
              "      <th>Happiness Rank</th>\n",
              "      <th>Country</th>\n",
              "      <th>Happiness Score</th>\n",
              "      <th>GDP per Capita</th>\n",
              "      <th>Family</th>\n",
              "      <th>Health</th>\n",
              "      <th>Freedom</th>\n",
              "      <th>Generosity</th>\n",
              "      <th>Trust</th>\n",
              "    </tr>\n",
              "  </thead>\n",
              "  <tbody>\n",
              "    <tr>\n",
              "      <th>0</th>\n",
              "      <td>1</td>\n",
              "      <td>Finland</td>\n",
              "      <td>7.769</td>\n",
              "      <td>1.340</td>\n",
              "      <td>1.587</td>\n",
              "      <td>0.986</td>\n",
              "      <td>0.596</td>\n",
              "      <td>0.153</td>\n",
              "      <td>0.393</td>\n",
              "    </tr>\n",
              "    <tr>\n",
              "      <th>1</th>\n",
              "      <td>2</td>\n",
              "      <td>Denmark</td>\n",
              "      <td>7.600</td>\n",
              "      <td>1.383</td>\n",
              "      <td>1.573</td>\n",
              "      <td>0.996</td>\n",
              "      <td>0.592</td>\n",
              "      <td>0.252</td>\n",
              "      <td>0.410</td>\n",
              "    </tr>\n",
              "    <tr>\n",
              "      <th>2</th>\n",
              "      <td>3</td>\n",
              "      <td>Norway</td>\n",
              "      <td>7.554</td>\n",
              "      <td>1.488</td>\n",
              "      <td>1.582</td>\n",
              "      <td>1.028</td>\n",
              "      <td>0.603</td>\n",
              "      <td>0.271</td>\n",
              "      <td>0.341</td>\n",
              "    </tr>\n",
              "    <tr>\n",
              "      <th>3</th>\n",
              "      <td>4</td>\n",
              "      <td>Iceland</td>\n",
              "      <td>7.494</td>\n",
              "      <td>1.380</td>\n",
              "      <td>1.624</td>\n",
              "      <td>1.026</td>\n",
              "      <td>0.591</td>\n",
              "      <td>0.354</td>\n",
              "      <td>0.118</td>\n",
              "    </tr>\n",
              "  </tbody>\n",
              "</table>\n",
              "</div>"
            ],
            "text/plain": [
              "   Happiness Rank  Country  Happiness Score  ...  Freedom  Generosity  Trust\n",
              "0               1  Finland            7.769  ...    0.596       0.153  0.393\n",
              "1               2  Denmark            7.600  ...    0.592       0.252  0.410\n",
              "2               3   Norway            7.554  ...    0.603       0.271  0.341\n",
              "3               4  Iceland            7.494  ...    0.591       0.354  0.118\n",
              "\n",
              "[4 rows x 9 columns]"
            ]
          },
          "metadata": {},
          "execution_count": 74
        }
      ]
    },
    {
      "cell_type": "markdown",
      "metadata": {
        "id": "D28UcwQQod33"
      },
      "source": [
        ""
      ]
    },
    {
      "cell_type": "markdown",
      "metadata": {
        "id": "tZtMkLTCod9F"
      },
      "source": [
        "# 2019년\n",
        "\n",
        "우리는 이번에 비교적 최신에 데이터를 가지고 분석해보려고 한다. 가지고 있는 데이터중 가장 최신 데이터는 2019년 데이터로, 이 데이터를 기반으로 분석할 것이다."
      ]
    },
    {
      "cell_type": "markdown",
      "metadata": {
        "id": "nmudug7GENwa"
      },
      "source": [
        "시작하기에 앞서, 각 column들을 설명해 보자면\n",
        "\n",
        "\n",
        "*   Happiness Rank : 행복 순위는 전 세계에서 해당 국가의 순위를 나타내는 정수 값\n",
        "*   Country : 국가 또는 지역의 이름\n",
        "*   Happiness Score : 해당국가의 행복도 점수 \n",
        "*   GDP per Capita : GDP가 행복지수 계산에 기여하는 정도.\n",
        "*   Family : 가족이 행복지수 계산에 기여하는 정도\n",
        "*   Health : 기대수명이 행복지수 계산에 기여한 정도\n",
        "*   Freedom : 자유가 행복 점수 계산에 기여한 정도\n",
        "*   Generosity : 관대함이 행복 점수 계산에 기여한 정도\n",
        "*   Trust : 부패에 대한 인식이 행복지수에 기여하는 정도.\n",
        "\n",
        "\n",
        "\n",
        "\n",
        "\n",
        "\n"
      ]
    },
    {
      "cell_type": "markdown",
      "metadata": {
        "id": "7w8Eb5mtMY6Y"
      },
      "source": [
        "아래 각 columns사이의 상관 분석 결과를 확인해 보면 Happiness Score와 가장 상관관계가 높은 것은 GDP per Capita이다. 그 외에 Family 와 Health 또한 높은 상관 관계를 가지는것을 볼 수 있다."
      ]
    },
    {
      "cell_type": "code",
      "metadata": {
        "colab": {
          "base_uri": "https://localhost:8080/",
          "height": 680
        },
        "id": "8Eg82BwnEJzX",
        "outputId": "ec18b3c2-1423-412e-d2bb-d7704b5bbe9b"
      },
      "source": [
        "import seaborn as sns; sns.set_theme(color_codes=True)\n",
        "\n",
        "plt.figure(figsize=(16, 10))\n",
        "\n",
        "sns.heatmap(data_2019.corr(), annot= True, fmt=\".2f\")\n",
        "\n",
        "plt.show()"
      ],
      "execution_count": null,
      "outputs": [
        {
          "output_type": "display_data",
          "data": {
            "image/png": "[encoded data removed]",
            "text/plain": [
              "<Figure size 1152x720 with 2 Axes>"
            ]
          },
          "metadata": {}
        }
      ]
    },
    {
      "cell_type": "markdown",
      "metadata": {
        "id": "VvPE1Pf6m5fh"
      },
      "source": [
        "위에 상관관계 결과를 시각화하여 보여준 것이다.\n",
        "\n",
        "결과보면 앞서 heatmap을 통해 알다 싶이 Happiness Score와 상관관계가 높았던 GDP, Family, Health는 회귀선에 밀접한 형태를 보이는 반면 상관관계가 낮았던 Generosity는 퍼져있는 형태를 보이고 있다. \n",
        "\n"
      ]
    },
    {
      "cell_type": "code",
      "metadata": {
        "colab": {
          "base_uri": "https://localhost:8080/",
          "height": 448
        },
        "id": "oog8wBIHfkXZ",
        "outputId": "ddd162be-9f48-42ce-cc0e-d0b5e2aeba4c"
      },
      "source": [
        "fig, ax = plt.subplots(1, 4,figsize=(25,7))\n",
        "\n",
        "g_gdp = sns.regplot(x=\"Happiness Score\", y=\"GDP per Capita\", data= data_2019, ax= ax[0],  color = 'r')\n",
        "\n",
        "g_family = sns.regplot(x=\"Happiness Score\", y=\"Family\", data= data_2019, ax= ax[1],  color = 'y')\n",
        "\n",
        "g_health = sns.regplot(x=\"Happiness Score\", y=\"Health\", data= data_2019, ax= ax[2],  color = 'g')\n",
        "\n",
        "g_generosity = sns.regplot(x=\"Happiness Score\", y=\"Generosity\", data= data_2019, ax= ax[3],  color = 'b')\n"
      ],
      "execution_count": null,
      "outputs": [
        {
          "output_type": "display_data",
          "data": {
            "image/png": "[encoded data removed]",
            "text/plain": [
              "<Figure size 1800x504 with 4 Axes>"
            ]
          },
          "metadata": {}
        }
      ]
    },
    {
      "cell_type": "markdown",
      "metadata": {
        "id": "TxLD_HfwqKaB"
      },
      "source": [
        "# 변화도\n",
        "\n",
        "이번에는 한 국가를 선택해서 2015년부터 2019년까지 세계 행복 순위와 행복지수 등 변화를 확인해 보려고 한다.\n",
        "\n",
        "먼저, 2019년도 세계행복지수 1위를 차지한 Finland를 분석할 것이기 때문에 빈 데이터프레임을 만들어준다. 그리고 각각 행에 2015년부터 2019년까지 데이터를 추가한다.\n"
      ]
    },
    {
      "cell_type": "code",
      "metadata": {
        "id": "r5BoPy4lKW3c"
      },
      "source": [
        "data_2015['Year'] = 2015\n",
        "data_2016['Year'] = 2016\n",
        "data_2017['Year'] = 2017\n",
        "ndata_2018['Year'] = 2018\n",
        "data_2019['Year'] = 2019"
      ],
      "execution_count": null,
      "outputs": []
    },
    {
      "cell_type": "code",
      "metadata": {
        "colab": {
          "base_uri": "https://localhost:8080/",
          "height": 49
        },
        "id": "loFhYc6Mrfus",
        "outputId": "1aa49081-705b-4cb3-95d6-a51ffd21471b"
      },
      "source": [
        "finland = pd.DataFrame(columns=[\"Year\", \"Happiness Rank\", \"Country\", \"Happiness Score\", \"GDP per Capita\", \"Family\", \"Health\", \"Freedom\", \"Generosity\", \"Trust\"])\n",
        "finland"
      ],
      "execution_count": null,
      "outputs": [
        {
          "output_type": "execute_result",
          "data": {
            "text/html": [
              "<div>\n",
              "<style scoped>\n",
              "    .dataframe tbody tr th:only-of-type {\n",
              "        vertical-align: middle;\n",
              "    }\n",
              "\n",
              "    .dataframe tbody tr th {\n",
              "        vertical-align: top;\n",
              "    }\n",
              "\n",
              "    .dataframe thead th {\n",
              "        text-align: right;\n",
              "    }\n",
              "</style>\n",
              "<table border=\"1\" class=\"dataframe\">\n",
              "  <thead>\n",
              "    <tr style=\"text-align: right;\">\n",
              "      <th></th>\n",
              "      <th>Year</th>\n",
              "      <th>Happiness Rank</th>\n",
              "      <th>Country</th>\n",
              "      <th>Happiness Score</th>\n",
              "      <th>GDP per Capita</th>\n",
              "      <th>Family</th>\n",
              "      <th>Health</th>\n",
              "      <th>Freedom</th>\n",
              "      <th>Generosity</th>\n",
              "      <th>Trust</th>\n",
              "    </tr>\n",
              "  </thead>\n",
              "  <tbody>\n",
              "  </tbody>\n",
              "</table>\n",
              "</div>"
            ],
            "text/plain": [
              "Empty DataFrame\n",
              "Columns: [Year, Happiness Rank, Country, Happiness Score, GDP per Capita, Family, Health, Freedom, Generosity, Trust]\n",
              "Index: []"
            ]
          },
          "metadata": {},
          "execution_count": 78
        }
      ]
    },
    {
      "cell_type": "code",
      "metadata": {
        "colab": {
          "base_uri": "https://localhost:8080/",
          "height": 206
        },
        "id": "jmol5aMes8MI",
        "outputId": "d5f0373d-3b47-4377-8944-c7012c4e7237"
      },
      "source": [
        "finland = finland.append([data_2015[data_2015['Country'] == 'Finland'], data_2016[data_2016['Country'] == 'Finland'],\n",
        "                data_2017[data_2017['Country'] == 'Finland'], ndata_2018[ndata_2018['Country'] == 'Finland'],\n",
        "                data_2019[data_2019['Country'] == 'Finland']], ignore_index=True)\n",
        "\n",
        "finland"
      ],
      "execution_count": null,
      "outputs": [
        {
          "output_type": "execute_result",
          "data": {
            "text/html": [
              "<div>\n",
              "<style scoped>\n",
              "    .dataframe tbody tr th:only-of-type {\n",
              "        vertical-align: middle;\n",
              "    }\n",
              "\n",
              "    .dataframe tbody tr th {\n",
              "        vertical-align: top;\n",
              "    }\n",
              "\n",
              "    .dataframe thead th {\n",
              "        text-align: right;\n",
              "    }\n",
              "</style>\n",
              "<table border=\"1\" class=\"dataframe\">\n",
              "  <thead>\n",
              "    <tr style=\"text-align: right;\">\n",
              "      <th></th>\n",
              "      <th>Year</th>\n",
              "      <th>Happiness Rank</th>\n",
              "      <th>Country</th>\n",
              "      <th>Happiness Score</th>\n",
              "      <th>GDP per Capita</th>\n",
              "      <th>Family</th>\n",
              "      <th>Health</th>\n",
              "      <th>Freedom</th>\n",
              "      <th>Generosity</th>\n",
              "      <th>Trust</th>\n",
              "    </tr>\n",
              "  </thead>\n",
              "  <tbody>\n",
              "    <tr>\n",
              "      <th>0</th>\n",
              "      <td>2015</td>\n",
              "      <td>6</td>\n",
              "      <td>Finland</td>\n",
              "      <td>7.406</td>\n",
              "      <td>1.29025</td>\n",
              "      <td>1.31826</td>\n",
              "      <td>0.88911</td>\n",
              "      <td>0.64169</td>\n",
              "      <td>0.23351</td>\n",
              "      <td>0.41372</td>\n",
              "    </tr>\n",
              "    <tr>\n",
              "      <th>1</th>\n",
              "      <td>2016</td>\n",
              "      <td>5</td>\n",
              "      <td>Finland</td>\n",
              "      <td>7.413</td>\n",
              "      <td>1.40598</td>\n",
              "      <td>1.13464</td>\n",
              "      <td>0.81091</td>\n",
              "      <td>0.57104</td>\n",
              "      <td>0.25492</td>\n",
              "      <td>0.41004</td>\n",
              "    </tr>\n",
              "    <tr>\n",
              "      <th>2</th>\n",
              "      <td>2017</td>\n",
              "      <td>5</td>\n",
              "      <td>Finland</td>\n",
              "      <td>7.469</td>\n",
              "      <td>1.44357</td>\n",
              "      <td>1.54025</td>\n",
              "      <td>0.809158</td>\n",
              "      <td>0.617951</td>\n",
              "      <td>0.245483</td>\n",
              "      <td>0.382612</td>\n",
              "    </tr>\n",
              "    <tr>\n",
              "      <th>3</th>\n",
              "      <td>2018</td>\n",
              "      <td>1</td>\n",
              "      <td>Finland</td>\n",
              "      <td>7.632</td>\n",
              "      <td>1.305</td>\n",
              "      <td>1.592</td>\n",
              "      <td>0.874</td>\n",
              "      <td>0.681</td>\n",
              "      <td>0.202</td>\n",
              "      <td>0.393</td>\n",
              "    </tr>\n",
              "    <tr>\n",
              "      <th>4</th>\n",
              "      <td>2019</td>\n",
              "      <td>1</td>\n",
              "      <td>Finland</td>\n",
              "      <td>7.769</td>\n",
              "      <td>1.34</td>\n",
              "      <td>1.587</td>\n",
              "      <td>0.986</td>\n",
              "      <td>0.596</td>\n",
              "      <td>0.153</td>\n",
              "      <td>0.393</td>\n",
              "    </tr>\n",
              "  </tbody>\n",
              "</table>\n",
              "</div>"
            ],
            "text/plain": [
              "   Year Happiness Rank  Country  ...   Freedom Generosity     Trust\n",
              "0  2015              6  Finland  ...   0.64169    0.23351   0.41372\n",
              "1  2016              5  Finland  ...   0.57104    0.25492   0.41004\n",
              "2  2017              5  Finland  ...  0.617951   0.245483  0.382612\n",
              "3  2018              1  Finland  ...     0.681      0.202     0.393\n",
              "4  2019              1  Finland  ...     0.596      0.153     0.393\n",
              "\n",
              "[5 rows x 10 columns]"
            ]
          },
          "metadata": {},
          "execution_count": 79
        }
      ]
    },
    {
      "cell_type": "code",
      "metadata": {
        "colab": {
          "base_uri": "https://localhost:8080/",
          "height": 729
        },
        "id": "_1znov71y1ze",
        "outputId": "b9a4f68d-a22d-4012-c61d-b2d2a3da7b63"
      },
      "source": [
        ""
      ],
      "execution_count": null,
      "outputs": [
        {
          "output_type": "error",
          "ename": "ConversionError",
          "evalue": "ignored",
          "traceback": [
            "\u001b[0;31m---------------------------------------------------------------------------\u001b[0m",
            "\u001b[0;31mValueError\u001b[0m                                Traceback (most recent call last)",
            "\u001b[0;32m/usr/local/lib/python3.7/dist-packages/matplotlib/axis.py\u001b[0m in \u001b[0;36mconvert_units\u001b[0;34m(self, x)\u001b[0m\n\u001b[1;32m   1572\u001b[0m         \u001b[0;32mtry\u001b[0m\u001b[0;34m:\u001b[0m\u001b[0;34m\u001b[0m\u001b[0;34m\u001b[0m\u001b[0m\n\u001b[0;32m-> 1573\u001b[0;31m             \u001b[0mret\u001b[0m \u001b[0;34m=\u001b[0m \u001b[0mself\u001b[0m\u001b[0;34m.\u001b[0m\u001b[0mconverter\u001b[0m\u001b[0;34m.\u001b[0m\u001b[0mconvert\u001b[0m\u001b[0;34m(\u001b[0m\u001b[0mx\u001b[0m\u001b[0;34m,\u001b[0m \u001b[0mself\u001b[0m\u001b[0;34m.\u001b[0m\u001b[0munits\u001b[0m\u001b[0;34m,\u001b[0m \u001b[0mself\u001b[0m\u001b[0;34m)\u001b[0m\u001b[0;34m\u001b[0m\u001b[0;34m\u001b[0m\u001b[0m\n\u001b[0m\u001b[1;32m   1574\u001b[0m         \u001b[0;32mexcept\u001b[0m \u001b[0mException\u001b[0m \u001b[0;32mas\u001b[0m \u001b[0me\u001b[0m\u001b[0;34m:\u001b[0m\u001b[0;34m\u001b[0m\u001b[0;34m\u001b[0m\u001b[0m\n",
            "\u001b[0;32m/usr/local/lib/python3.7/dist-packages/matplotlib/category.py\u001b[0m in \u001b[0;36mconvert\u001b[0;34m(value, unit, axis)\u001b[0m\n\u001b[1;32m     49\u001b[0m             raise ValueError(\n\u001b[0;32m---> 50\u001b[0;31m                 \u001b[0;34m'Missing category information for StrCategoryConverter; '\u001b[0m\u001b[0;34m\u001b[0m\u001b[0;34m\u001b[0m\u001b[0m\n\u001b[0m\u001b[1;32m     51\u001b[0m                 \u001b[0;34m'this might be caused by unintendedly mixing categorical and '\u001b[0m\u001b[0;34m\u001b[0m\u001b[0;34m\u001b[0m\u001b[0m\n",
            "\u001b[0;31mValueError\u001b[0m: Missing category information for StrCategoryConverter; this might be caused by unintendedly mixing categorical and numeric data",
            "\nThe above exception was the direct cause of the following exception:\n",
            "\u001b[0;31mConversionError\u001b[0m                           Traceback (most recent call last)",
            "\u001b[0;32m<ipython-input-65-19ceee085644>\u001b[0m in \u001b[0;36m<module>\u001b[0;34m()\u001b[0m\n\u001b[0;32m----> 1\u001b[0;31m \u001b[0mplt\u001b[0m\u001b[0;34m.\u001b[0m\u001b[0mplot\u001b[0m\u001b[0;34m(\u001b[0m\u001b[0mfinland\u001b[0m\u001b[0;34m)\u001b[0m\u001b[0;34m\u001b[0m\u001b[0;34m\u001b[0m\u001b[0m\n\u001b[0m\u001b[1;32m      2\u001b[0m \u001b[0mplt\u001b[0m\u001b[0;34m.\u001b[0m\u001b[0mxlabel\u001b[0m\u001b[0;34m(\u001b[0m\u001b[0;34m\"year\"\u001b[0m\u001b[0;34m)\u001b[0m\u001b[0;34m\u001b[0m\u001b[0;34m\u001b[0m\u001b[0m\n",
            "\u001b[0;32m/usr/local/lib/python3.7/dist-packages/matplotlib/pyplot.py\u001b[0m in \u001b[0;36mplot\u001b[0;34m(scalex, scaley, data, *args, **kwargs)\u001b[0m\n\u001b[1;32m   2761\u001b[0m     return gca().plot(\n\u001b[1;32m   2762\u001b[0m         *args, scalex=scalex, scaley=scaley, **({\"data\": data} if data\n\u001b[0;32m-> 2763\u001b[0;31m         is not None else {}), **kwargs)\n\u001b[0m\u001b[1;32m   2764\u001b[0m \u001b[0;34m\u001b[0m\u001b[0m\n\u001b[1;32m   2765\u001b[0m \u001b[0;34m\u001b[0m\u001b[0m\n",
            "\u001b[0;32m/usr/local/lib/python3.7/dist-packages/matplotlib/axes/_axes.py\u001b[0m in \u001b[0;36mplot\u001b[0;34m(self, scalex, scaley, data, *args, **kwargs)\u001b[0m\n\u001b[1;32m   1647\u001b[0m         \u001b[0mlines\u001b[0m \u001b[0;34m=\u001b[0m \u001b[0;34m[\u001b[0m\u001b[0;34m*\u001b[0m\u001b[0mself\u001b[0m\u001b[0;34m.\u001b[0m\u001b[0m_get_lines\u001b[0m\u001b[0;34m(\u001b[0m\u001b[0;34m*\u001b[0m\u001b[0margs\u001b[0m\u001b[0;34m,\u001b[0m \u001b[0mdata\u001b[0m\u001b[0;34m=\u001b[0m\u001b[0mdata\u001b[0m\u001b[0;34m,\u001b[0m \u001b[0;34m**\u001b[0m\u001b[0mkwargs\u001b[0m\u001b[0;34m)\u001b[0m\u001b[0;34m]\u001b[0m\u001b[0;34m\u001b[0m\u001b[0;34m\u001b[0m\u001b[0m\n\u001b[1;32m   1648\u001b[0m         \u001b[0;32mfor\u001b[0m \u001b[0mline\u001b[0m \u001b[0;32min\u001b[0m \u001b[0mlines\u001b[0m\u001b[0;34m:\u001b[0m\u001b[0;34m\u001b[0m\u001b[0;34m\u001b[0m\u001b[0m\n\u001b[0;32m-> 1649\u001b[0;31m             \u001b[0mself\u001b[0m\u001b[0;34m.\u001b[0m\u001b[0madd_line\u001b[0m\u001b[0;34m(\u001b[0m\u001b[0mline\u001b[0m\u001b[0;34m)\u001b[0m\u001b[0;34m\u001b[0m\u001b[0;34m\u001b[0m\u001b[0m\n\u001b[0m\u001b[1;32m   1650\u001b[0m         \u001b[0mself\u001b[0m\u001b[0;34m.\u001b[0m\u001b[0m_request_autoscale_view\u001b[0m\u001b[0;34m(\u001b[0m\u001b[0mscalex\u001b[0m\u001b[0;34m=\u001b[0m\u001b[0mscalex\u001b[0m\u001b[0;34m,\u001b[0m \u001b[0mscaley\u001b[0m\u001b[0;34m=\u001b[0m\u001b[0mscaley\u001b[0m\u001b[0;34m)\u001b[0m\u001b[0;34m\u001b[0m\u001b[0;34m\u001b[0m\u001b[0m\n\u001b[1;32m   1651\u001b[0m         \u001b[0;32mreturn\u001b[0m \u001b[0mlines\u001b[0m\u001b[0;34m\u001b[0m\u001b[0;34m\u001b[0m\u001b[0m\n",
            "\u001b[0;32m/usr/local/lib/python3.7/dist-packages/matplotlib/axes/_base.py\u001b[0m in \u001b[0;36madd_line\u001b[0;34m(self, line)\u001b[0m\n\u001b[1;32m   1848\u001b[0m             \u001b[0mline\u001b[0m\u001b[0;34m.\u001b[0m\u001b[0mset_clip_path\u001b[0m\u001b[0;34m(\u001b[0m\u001b[0mself\u001b[0m\u001b[0;34m.\u001b[0m\u001b[0mpatch\u001b[0m\u001b[0;34m)\u001b[0m\u001b[0;34m\u001b[0m\u001b[0;34m\u001b[0m\u001b[0m\n\u001b[1;32m   1849\u001b[0m \u001b[0;34m\u001b[0m\u001b[0m\n\u001b[0;32m-> 1850\u001b[0;31m         \u001b[0mself\u001b[0m\u001b[0;34m.\u001b[0m\u001b[0m_update_line_limits\u001b[0m\u001b[0;34m(\u001b[0m\u001b[0mline\u001b[0m\u001b[0;34m)\u001b[0m\u001b[0;34m\u001b[0m\u001b[0;34m\u001b[0m\u001b[0m\n\u001b[0m\u001b[1;32m   1851\u001b[0m         \u001b[0;32mif\u001b[0m \u001b[0;32mnot\u001b[0m \u001b[0mline\u001b[0m\u001b[0;34m.\u001b[0m\u001b[0mget_label\u001b[0m\u001b[0;34m(\u001b[0m\u001b[0;34m)\u001b[0m\u001b[0;34m:\u001b[0m\u001b[0;34m\u001b[0m\u001b[0;34m\u001b[0m\u001b[0m\n\u001b[1;32m   1852\u001b[0m             \u001b[0mline\u001b[0m\u001b[0;34m.\u001b[0m\u001b[0mset_label\u001b[0m\u001b[0;34m(\u001b[0m\u001b[0;34m'_line%d'\u001b[0m \u001b[0;34m%\u001b[0m \u001b[0mlen\u001b[0m\u001b[0;34m(\u001b[0m\u001b[0mself\u001b[0m\u001b[0;34m.\u001b[0m\u001b[0mlines\u001b[0m\u001b[0;34m)\u001b[0m\u001b[0;34m)\u001b[0m\u001b[0;34m\u001b[0m\u001b[0;34m\u001b[0m\u001b[0m\n",
            "\u001b[0;32m/usr/local/lib/python3.7/dist-packages/matplotlib/axes/_base.py\u001b[0m in \u001b[0;36m_update_line_limits\u001b[0;34m(self, line)\u001b[0m\n\u001b[1;32m   1870\u001b[0m         \u001b[0mFigures\u001b[0m \u001b[0mout\u001b[0m \u001b[0mthe\u001b[0m \u001b[0mdata\u001b[0m \u001b[0mlimit\u001b[0m \u001b[0mof\u001b[0m \u001b[0mthe\u001b[0m \u001b[0mgiven\u001b[0m \u001b[0mline\u001b[0m\u001b[0;34m,\u001b[0m \u001b[0mupdating\u001b[0m \u001b[0mself\u001b[0m\u001b[0;34m.\u001b[0m\u001b[0mdataLim\u001b[0m\u001b[0;34m.\u001b[0m\u001b[0;34m\u001b[0m\u001b[0;34m\u001b[0m\u001b[0m\n\u001b[1;32m   1871\u001b[0m         \"\"\"\n\u001b[0;32m-> 1872\u001b[0;31m         \u001b[0mpath\u001b[0m \u001b[0;34m=\u001b[0m \u001b[0mline\u001b[0m\u001b[0;34m.\u001b[0m\u001b[0mget_path\u001b[0m\u001b[0;34m(\u001b[0m\u001b[0;34m)\u001b[0m\u001b[0;34m\u001b[0m\u001b[0;34m\u001b[0m\u001b[0m\n\u001b[0m\u001b[1;32m   1873\u001b[0m         \u001b[0;32mif\u001b[0m \u001b[0mpath\u001b[0m\u001b[0;34m.\u001b[0m\u001b[0mvertices\u001b[0m\u001b[0;34m.\u001b[0m\u001b[0msize\u001b[0m \u001b[0;34m==\u001b[0m \u001b[0;36m0\u001b[0m\u001b[0;34m:\u001b[0m\u001b[0;34m\u001b[0m\u001b[0;34m\u001b[0m\u001b[0m\n\u001b[1;32m   1874\u001b[0m             \u001b[0;32mreturn\u001b[0m\u001b[0;34m\u001b[0m\u001b[0;34m\u001b[0m\u001b[0m\n",
            "\u001b[0;32m/usr/local/lib/python3.7/dist-packages/matplotlib/lines.py\u001b[0m in \u001b[0;36mget_path\u001b[0;34m(self)\u001b[0m\n\u001b[1;32m   1025\u001b[0m         \"\"\"\n\u001b[1;32m   1026\u001b[0m         \u001b[0;32mif\u001b[0m \u001b[0mself\u001b[0m\u001b[0;34m.\u001b[0m\u001b[0m_invalidy\u001b[0m \u001b[0;32mor\u001b[0m \u001b[0mself\u001b[0m\u001b[0;34m.\u001b[0m\u001b[0m_invalidx\u001b[0m\u001b[0;34m:\u001b[0m\u001b[0;34m\u001b[0m\u001b[0;34m\u001b[0m\u001b[0m\n\u001b[0;32m-> 1027\u001b[0;31m             \u001b[0mself\u001b[0m\u001b[0;34m.\u001b[0m\u001b[0mrecache\u001b[0m\u001b[0;34m(\u001b[0m\u001b[0;34m)\u001b[0m\u001b[0;34m\u001b[0m\u001b[0;34m\u001b[0m\u001b[0m\n\u001b[0m\u001b[1;32m   1028\u001b[0m         \u001b[0;32mreturn\u001b[0m \u001b[0mself\u001b[0m\u001b[0;34m.\u001b[0m\u001b[0m_path\u001b[0m\u001b[0;34m\u001b[0m\u001b[0;34m\u001b[0m\u001b[0m\n\u001b[1;32m   1029\u001b[0m \u001b[0;34m\u001b[0m\u001b[0m\n",
            "\u001b[0;32m/usr/local/lib/python3.7/dist-packages/matplotlib/lines.py\u001b[0m in \u001b[0;36mrecache\u001b[0;34m(self, always)\u001b[0m\n\u001b[1;32m    672\u001b[0m             \u001b[0mx\u001b[0m \u001b[0;34m=\u001b[0m \u001b[0mself\u001b[0m\u001b[0;34m.\u001b[0m\u001b[0m_x\u001b[0m\u001b[0;34m\u001b[0m\u001b[0;34m\u001b[0m\u001b[0m\n\u001b[1;32m    673\u001b[0m         \u001b[0;32mif\u001b[0m \u001b[0malways\u001b[0m \u001b[0;32mor\u001b[0m \u001b[0mself\u001b[0m\u001b[0;34m.\u001b[0m\u001b[0m_invalidy\u001b[0m\u001b[0;34m:\u001b[0m\u001b[0;34m\u001b[0m\u001b[0;34m\u001b[0m\u001b[0m\n\u001b[0;32m--> 674\u001b[0;31m             \u001b[0myconv\u001b[0m \u001b[0;34m=\u001b[0m \u001b[0mself\u001b[0m\u001b[0;34m.\u001b[0m\u001b[0mconvert_yunits\u001b[0m\u001b[0;34m(\u001b[0m\u001b[0mself\u001b[0m\u001b[0;34m.\u001b[0m\u001b[0m_yorig\u001b[0m\u001b[0;34m)\u001b[0m\u001b[0;34m\u001b[0m\u001b[0;34m\u001b[0m\u001b[0m\n\u001b[0m\u001b[1;32m    675\u001b[0m             \u001b[0my\u001b[0m \u001b[0;34m=\u001b[0m \u001b[0m_to_unmasked_float_array\u001b[0m\u001b[0;34m(\u001b[0m\u001b[0myconv\u001b[0m\u001b[0;34m)\u001b[0m\u001b[0;34m.\u001b[0m\u001b[0mravel\u001b[0m\u001b[0;34m(\u001b[0m\u001b[0;34m)\u001b[0m\u001b[0;34m\u001b[0m\u001b[0;34m\u001b[0m\u001b[0m\n\u001b[1;32m    676\u001b[0m         \u001b[0;32melse\u001b[0m\u001b[0;34m:\u001b[0m\u001b[0;34m\u001b[0m\u001b[0;34m\u001b[0m\u001b[0m\n",
            "\u001b[0;32m/usr/local/lib/python3.7/dist-packages/matplotlib/artist.py\u001b[0m in \u001b[0;36mconvert_yunits\u001b[0;34m(self, y)\u001b[0m\n\u001b[1;32m    188\u001b[0m         \u001b[0;32mif\u001b[0m \u001b[0max\u001b[0m \u001b[0;32mis\u001b[0m \u001b[0;32mNone\u001b[0m \u001b[0;32mor\u001b[0m \u001b[0max\u001b[0m\u001b[0;34m.\u001b[0m\u001b[0myaxis\u001b[0m \u001b[0;32mis\u001b[0m \u001b[0;32mNone\u001b[0m\u001b[0;34m:\u001b[0m\u001b[0;34m\u001b[0m\u001b[0;34m\u001b[0m\u001b[0m\n\u001b[1;32m    189\u001b[0m             \u001b[0;32mreturn\u001b[0m \u001b[0my\u001b[0m\u001b[0;34m\u001b[0m\u001b[0;34m\u001b[0m\u001b[0m\n\u001b[0;32m--> 190\u001b[0;31m         \u001b[0;32mreturn\u001b[0m \u001b[0max\u001b[0m\u001b[0;34m.\u001b[0m\u001b[0myaxis\u001b[0m\u001b[0;34m.\u001b[0m\u001b[0mconvert_units\u001b[0m\u001b[0;34m(\u001b[0m\u001b[0my\u001b[0m\u001b[0;34m)\u001b[0m\u001b[0;34m\u001b[0m\u001b[0;34m\u001b[0m\u001b[0m\n\u001b[0m\u001b[1;32m    191\u001b[0m \u001b[0;34m\u001b[0m\u001b[0m\n\u001b[1;32m    192\u001b[0m     \u001b[0;34m@\u001b[0m\u001b[0mproperty\u001b[0m\u001b[0;34m\u001b[0m\u001b[0;34m\u001b[0m\u001b[0m\n",
            "\u001b[0;32m/usr/local/lib/python3.7/dist-packages/matplotlib/axis.py\u001b[0m in \u001b[0;36mconvert_units\u001b[0;34m(self, x)\u001b[0m\n\u001b[1;32m   1574\u001b[0m         \u001b[0;32mexcept\u001b[0m \u001b[0mException\u001b[0m \u001b[0;32mas\u001b[0m \u001b[0me\u001b[0m\u001b[0;34m:\u001b[0m\u001b[0;34m\u001b[0m\u001b[0;34m\u001b[0m\u001b[0m\n\u001b[1;32m   1575\u001b[0m             raise munits.ConversionError('Failed to convert value(s) to axis '\n\u001b[0;32m-> 1576\u001b[0;31m                                          f'units: {x!r}') from e\n\u001b[0m\u001b[1;32m   1577\u001b[0m         \u001b[0;32mreturn\u001b[0m \u001b[0mret\u001b[0m\u001b[0;34m\u001b[0m\u001b[0;34m\u001b[0m\u001b[0m\n\u001b[1;32m   1578\u001b[0m \u001b[0;34m\u001b[0m\u001b[0m\n",
            "\u001b[0;31mConversionError\u001b[0m: Failed to convert value(s) to axis units: array(['Finland', 'Finland', 'Finland', 'Finland', 'Finland'],\n      dtype=object)"
          ]
        },
        {
          "output_type": "display_data",
          "data": {
            "image/png": "[encoded data removed]",
            "text/plain": [
              "<Figure size 432x288 with 1 Axes>"
            ]
          },
          "metadata": {}
        }
      ]
    }
  ]
}