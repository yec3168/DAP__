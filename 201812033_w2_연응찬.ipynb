{
  "nbformat": 4,
  "nbformat_minor": 0,
  "metadata": {
    "colab": {
      "name": "w2.ipynb",
      "provenance": [],
      "collapsed_sections": [],
      "include_colab_link": true
    },
    "kernelspec": {
      "name": "python3",
      "display_name": "Python 3"
    },
    "language_info": {
      "name": "python"
    }
  },
  "cells": [
    {
      "cell_type": "markdown",
      "metadata": {
        "id": "view-in-github",
        "colab_type": "text"
      },
      "source": [
        "<a href=\"https://colab.research.google.com/github/yec3168/DAP__/blob/main/201812033_w2_%EC%97%B0%EC%9D%91%EC%B0%AC.ipynb\" target=\"_parent\"><img src=\"https://colab.research.google.com/assets/colab-badge.svg\" alt=\"Open In Colab\"/></a>"
      ]
    },
    {
      "cell_type": "code",
      "metadata": {
        "id": "HNPNzCabLo7S"
      },
      "source": [
        "import numpy as np\n",
        "import pandas as pd\n",
        "\n",
        "np.random.seed(0)"
      ],
      "execution_count": 333,
      "outputs": []
    },
    {
      "cell_type": "markdown",
      "metadata": {
        "id": "7BZpwooJxpkj"
      },
      "source": [
        "# NumPy Exercises!\n",
        "Complete the solution code to have a desired output.\n",
        "\n",
        "**[Caution!]** Not allow to use iteration, such as for-loop.\n",
        "\n",
        "\n",
        "\n"
      ]
    },
    {
      "cell_type": "markdown",
      "metadata": {
        "id": "kXhonLDSK0_j"
      },
      "source": [
        "### 1. Create a 4×4 numpy array of all True boolean’s "
      ]
    },
    {
      "cell_type": "code",
      "metadata": {
        "colab": {
          "base_uri": "https://localhost:8080/"
        },
        "id": "wM9StYWNK0Xr",
        "outputId": "a1b0d458-9014-47c3-b36c-c222d711c307"
      },
      "source": [
        "# Input\n",
        "arr_size = (4, 4)\n",
        "\n",
        "# Solution\n",
        "bool_arr = np.full(arr_size,True, bool)\n",
        "\n",
        "# Print\n",
        "print(bool_arr)"
      ],
      "execution_count": 332,
      "outputs": [
        {
          "output_type": "stream",
          "name": "stdout",
          "text": [
            "[[ True  True  True  True]\n",
            " [ True  True  True  True]\n",
            " [ True  True  True  True]\n",
            " [ True  True  True  True]]\n"
          ]
        }
      ]
    },
    {
      "cell_type": "markdown",
      "metadata": {
        "id": "pCTPSJIyMFAu"
      },
      "source": [
        "### 2. Extract all odd numbers from given `arr`"
      ]
    },
    {
      "cell_type": "code",
      "metadata": {
        "colab": {
          "base_uri": "https://localhost:8080/"
        },
        "id": "_XmWs6POMFuS",
        "outputId": "0e56a3f6-2810-4862-9b45-255dba357d83"
      },
      "source": [
        "# Input\n",
        "arr = np.arange(30)\n",
        "\n",
        "# Solution\n",
        "arr = np.arange(1,30,2);\n",
        "\n",
        "# Print\n",
        "print(arr)"
      ],
      "execution_count": 334,
      "outputs": [
        {
          "output_type": "stream",
          "name": "stdout",
          "text": [
            "[ 1  3  5  7  9 11 13 15 17 19 21 23 25 27 29]\n"
          ]
        }
      ]
    },
    {
      "cell_type": "markdown",
      "metadata": {
        "id": "OAanUPrlNj-N"
      },
      "source": [
        "### 3. Get the positions where elements of `a` and `b` match\n",
        "(hint, refer [np.where](https://numpy.org/doc/stable/reference/generated/numpy.where.html).)\n",
        "\n"
      ]
    },
    {
      "cell_type": "code",
      "metadata": {
        "colab": {
          "base_uri": "https://localhost:8080/"
        },
        "id": "4VryzVtxNniI",
        "outputId": "1c74c546-32d8-417c-b60d-470bc54ef856"
      },
      "source": [
        "# Input\n",
        "a = np.array([1, 2, 3, 2, 3, 4, 3, 4, 5, 6])\n",
        "b = np.array([7, 2, 10, 2, 7, 4, 9, 4, 9, 8])\n",
        "\n",
        "# Solution\n",
        "idx = np.where(a==b)\n",
        "\n",
        "# Print\n",
        "print(idx)"
      ],
      "execution_count": 335,
      "outputs": [
        {
          "output_type": "stream",
          "name": "stdout",
          "text": [
            "(array([1, 3, 5, 7]),)\n"
          ]
        }
      ]
    },
    {
      "cell_type": "markdown",
      "metadata": {
        "id": "Golu0NHiZNq3"
      },
      "source": [
        "### 4. Find the mean, median, standard deviation of iris's `sepallength` (1st column)."
      ]
    },
    {
      "cell_type": "markdown",
      "metadata": {
        "id": "5M15AZWHbrQC"
      },
      "source": [
        ""
      ]
    },
    {
      "cell_type": "code",
      "metadata": {
        "colab": {
          "base_uri": "https://localhost:8080/"
        },
        "id": "0ng7wdvoZpJe",
        "outputId": "6331dbde-8833-46f9-d9ee-0f591a77549b"
      },
      "source": [
        "# Input\n",
        "url = 'https://archive.ics.uci.edu/ml/machine-learning-databases/iris/iris.data'\n",
        "iris = np.genfromtxt(url, delimiter=',', dtype='object')\n",
        "sepallength = np.genfromtxt(url, delimiter=',', dtype='float', usecols=[0])\n",
        "\n",
        "# Solution\n",
        "#mu, med, std = np.std(sepallength, axis =0)\n",
        "std = np.std(sepallength)\n",
        "mu = np.mean(sepallength)\n",
        "med =np.median(sepallength)\n",
        "# Print\n",
        "\n",
        "print(mu, med, std)"
      ],
      "execution_count": null,
      "outputs": [
        {
          "output_type": "stream",
          "name": "stdout",
          "text": [
            "5.843333333333334 5.8 0.8253012917851409\n"
          ]
        }
      ]
    },
    {
      "cell_type": "markdown",
      "metadata": {
        "id": "RIFj650ubDpr"
      },
      "source": [
        "### 5. Find the duplicate entries (2nd occurrence onwards) in the given numpy array and mark them as True. First time occurrences should be False.\n",
        "(hint, refer [np.unique](https://numpy.org/doc/stable/reference/generated/numpy.unique.html).)"
      ]
    },
    {
      "cell_type": "code",
      "metadata": {
        "colab": {
          "base_uri": "https://localhost:8080/"
        },
        "id": "W7u4Od_obJfd",
        "outputId": "2a429ae5-081b-462c-c61a-158b9ff6e15b"
      },
      "source": [
        "# Input\n",
        "np.random.seed(100)\n",
        "a = np.random.randint(0, 5, 10)\n",
        "print('Array: ', a)\n",
        "\n",
        "# Solution\n",
        "## Create an all True array\n",
        "out = np.full(a.size, True, bool)\n",
        "\n",
        "## Find theti index posions of unique elements\n",
        "unique_positions,indexs= np.unique(a,return_index=True)\n",
        "\n",
        "## Mark those positions as False\n",
        "out[indexs] = False\n",
        "\n",
        "print('Duplicate entrie: ', out)"
      ],
      "execution_count": null,
      "outputs": [
        {
          "output_type": "stream",
          "name": "stdout",
          "text": [
            "Array:  [0 0 3 0 2 4 2 2 2 2]\n",
            "Duplicate entrie:  [False  True False  True False False  True  True  True  True]\n"
          ]
        }
      ]
    },
    {
      "cell_type": "markdown",
      "metadata": {
        "id": "Yx8npG2qeCCH"
      },
      "source": [
        "# Pandas Exercises!\n",
        "Complete the solution code to have a desired output. \n",
        "\n",
        "\n",
        "\n"
      ]
    },
    {
      "cell_type": "markdown",
      "metadata": {
        "id": "AF3TdV0ZepwD"
      },
      "source": [
        "### 6. Combine `ser1` and `ser2` to form a dataframe."
      ]
    },
    {
      "cell_type": "code",
      "metadata": {
        "colab": {
          "base_uri": "https://localhost:8080/"
        },
        "id": "AIV2AZO1ekG0",
        "outputId": "9a428ab9-ca30-4d2b-d87e-792950892cf2"
      },
      "source": [
        "# Input\n",
        "ser1 = pd.Series(list('abcedfghijklmnopqrstuvwxyz'))\n",
        "ser2 = pd.Series(np.arange(26),name='col2')\n",
        "\n",
        "# Solution \n",
        "#ser3 = pd.concat((ser1, ser2), axis=1);\n",
        "df = pd.DataFrame(ser1, columns=['col1'])\n",
        "df = pd.concat([df, ser2], axis=1)\n",
        "\n",
        "# Print\n",
        "print(df.head())"
      ],
      "execution_count": null,
      "outputs": [
        {
          "output_type": "stream",
          "name": "stdout",
          "text": [
            "  col1  col2\n",
            "0    a     0\n",
            "1    b     1\n",
            "2    c     2\n",
            "3    e     3\n",
            "4    d     4\n"
          ]
        }
      ]
    },
    {
      "cell_type": "markdown",
      "metadata": {
        "id": "b6JSzVmsi6fo"
      },
      "source": [
        "### 7. Check if `df` has any missing values."
      ]
    },
    {
      "cell_type": "code",
      "metadata": {
        "colab": {
          "base_uri": "https://localhost:8080/"
        },
        "id": "dhqka6BNi8wF",
        "outputId": "f55de84c-f4dc-496d-ae11-2c7374affadf"
      },
      "source": [
        "# Input\n",
        "df = pd.read_csv('https://raw.githubusercontent.com/selva86/datasets/master/Cars93_miss.csv')\n",
        "print(df.head())\n",
        "\n",
        "# Solution\n",
        "print('\\nIs there any missing value?:',np.any(df.isnull()))"
      ],
      "execution_count": null,
      "outputs": [
        {
          "output_type": "stream",
          "name": "stdout",
          "text": [
            "  Manufacturer    Model     Type  ...  Weight   Origin           Make\n",
            "0        Acura  Integra    Small  ...  2705.0  non-USA  Acura Integra\n",
            "1          NaN   Legend  Midsize  ...  3560.0  non-USA   Acura Legend\n",
            "2         Audi       90  Compact  ...  3375.0  non-USA        Audi 90\n",
            "3         Audi      100  Midsize  ...  3405.0  non-USA       Audi 100\n",
            "4          BMW     535i  Midsize  ...  3640.0  non-USA       BMW 535i\n",
            "\n",
            "[5 rows x 27 columns]\n",
            "\n",
            "Is there any missing value?: True\n"
          ]
        }
      ]
    },
    {
      "cell_type": "markdown",
      "metadata": {
        "id": "0jhPg-fJff9y"
      },
      "source": [
        "### 8. Create a TimeSeries starting `2021-01-01` and 10 weekends (sundays) after that **having** random numbers as values?"
      ]
    },
    {
      "cell_type": "code",
      "metadata": {
        "colab": {
          "base_uri": "https://localhost:8080/"
        },
        "id": "GL6TjFcCfmpt",
        "outputId": "c563f414-5235-499e-92d9-de93029e74d0"
      },
      "source": [
        "# Solution\n",
        "#print( pd.date_range('2021-1-1','2021-4-1', freq='W'))\n",
        "ser = pd.Series(pd.date_range('2021-1-1','2021-4-1', freq='W'))\n",
        "print(ser.head(10))\n"
      ],
      "execution_count": null,
      "outputs": [
        {
          "output_type": "stream",
          "name": "stdout",
          "text": [
            "0   2021-01-03\n",
            "1   2021-01-10\n",
            "2   2021-01-17\n",
            "3   2021-01-24\n",
            "4   2021-01-31\n",
            "5   2021-02-07\n",
            "6   2021-02-14\n",
            "7   2021-02-21\n",
            "8   2021-02-28\n",
            "9   2021-03-07\n",
            "dtype: datetime64[ns]\n"
          ]
        }
      ]
    },
    {
      "cell_type": "markdown",
      "metadata": {
        "id": "P1-wKPtmkcxe"
      },
      "source": [
        "### 9. In `df`, compute the mean price of every fruit using grouping function."
      ]
    },
    {
      "cell_type": "code",
      "metadata": {
        "colab": {
          "base_uri": "https://localhost:8080/"
        },
        "id": "7fa0q1N5kfbT",
        "outputId": "e66152f8-c512-41e5-d1f5-3c68842b25c1"
      },
      "source": [
        "# Input\n",
        "df = pd.DataFrame({'fruit': ['apple', 'banana', 'orange'] * 3,\n",
        "                   'rating': np.random.rand(9),\n",
        "                   'price': np.random.randint(0, 15, 9)})\n",
        "\n",
        "# Solution\n",
        "out = df.groupby('fruit').mean()\n",
        "output = pd.DataFrame(out, columns=['price'])\n",
        "print(output)\n"
      ],
      "execution_count": 341,
      "outputs": [
        {
          "output_type": "stream",
          "name": "stdout",
          "text": [
            "           price\n",
            "fruit           \n",
            "apple   1.333333\n",
            "banana  2.666667\n",
            "orange  5.333333\n"
          ]
        }
      ]
    },
    {
      "cell_type": "markdown",
      "metadata": {
        "id": "ZSInSrZWldXS"
      },
      "source": [
        "### 10. Join two dataframes `df1` and `df2` for intersection items on `use_id`.\n",
        "For `df2`, please select only `use_id`, `platform`, `device` columns not all columns for merging."
      ]
    },
    {
      "cell_type": "code",
      "metadata": {
        "colab": {
          "base_uri": "https://localhost:8080/",
          "height": 417
        },
        "id": "gAMtcVrSllcc",
        "outputId": "78c0a221-0fc1-410e-fe4a-b4f60c6523ff"
      },
      "source": [
        "# Input\n",
        "base_path = 'https://raw.githubusercontent.com/shanealynn/Pandas-Merge-Tutorial/master/'\n",
        "df1 = pd.read_csv(base_path + 'user_usage.csv')\n",
        "df2 = pd.read_csv(base_path + 'user_device.csv')\n",
        "\n",
        "# Solution\n",
        "\n",
        "out = pd.merge(df2, df1, on='use_id',how ='inner');\n",
        "out = pd.DataFrame(out,columns=['use_id','platform','device']);\n",
        "out.reset_index(drop=True)"
      ],
      "execution_count": 347,
      "outputs": [
        {
          "output_type": "execute_result",
          "data": {
            "text/html": [
              "<div>\n",
              "<style scoped>\n",
              "    .dataframe tbody tr th:only-of-type {\n",
              "        vertical-align: middle;\n",
              "    }\n",
              "\n",
              "    .dataframe tbody tr th {\n",
              "        vertical-align: top;\n",
              "    }\n",
              "\n",
              "    .dataframe thead th {\n",
              "        text-align: right;\n",
              "    }\n",
              "</style>\n",
              "<table border=\"1\" class=\"dataframe\">\n",
              "  <thead>\n",
              "    <tr style=\"text-align: right;\">\n",
              "      <th></th>\n",
              "      <th>use_id</th>\n",
              "      <th>platform</th>\n",
              "      <th>device</th>\n",
              "    </tr>\n",
              "  </thead>\n",
              "  <tbody>\n",
              "    <tr>\n",
              "      <th>0</th>\n",
              "      <td>22787</td>\n",
              "      <td>android</td>\n",
              "      <td>GT-I9505</td>\n",
              "    </tr>\n",
              "    <tr>\n",
              "      <th>1</th>\n",
              "      <td>22788</td>\n",
              "      <td>android</td>\n",
              "      <td>SM-G930F</td>\n",
              "    </tr>\n",
              "    <tr>\n",
              "      <th>2</th>\n",
              "      <td>22789</td>\n",
              "      <td>android</td>\n",
              "      <td>SM-G930F</td>\n",
              "    </tr>\n",
              "    <tr>\n",
              "      <th>3</th>\n",
              "      <td>22790</td>\n",
              "      <td>android</td>\n",
              "      <td>D2303</td>\n",
              "    </tr>\n",
              "    <tr>\n",
              "      <th>4</th>\n",
              "      <td>22792</td>\n",
              "      <td>android</td>\n",
              "      <td>SM-G361F</td>\n",
              "    </tr>\n",
              "    <tr>\n",
              "      <th>...</th>\n",
              "      <td>...</td>\n",
              "      <td>...</td>\n",
              "      <td>...</td>\n",
              "    </tr>\n",
              "    <tr>\n",
              "      <th>154</th>\n",
              "      <td>23043</td>\n",
              "      <td>android</td>\n",
              "      <td>SM-G900F</td>\n",
              "    </tr>\n",
              "    <tr>\n",
              "      <th>155</th>\n",
              "      <td>23044</td>\n",
              "      <td>android</td>\n",
              "      <td>SM-G900F</td>\n",
              "    </tr>\n",
              "    <tr>\n",
              "      <th>156</th>\n",
              "      <td>23046</td>\n",
              "      <td>android</td>\n",
              "      <td>Moto G (4)</td>\n",
              "    </tr>\n",
              "    <tr>\n",
              "      <th>157</th>\n",
              "      <td>23049</td>\n",
              "      <td>android</td>\n",
              "      <td>SM-G900F</td>\n",
              "    </tr>\n",
              "    <tr>\n",
              "      <th>158</th>\n",
              "      <td>23053</td>\n",
              "      <td>android</td>\n",
              "      <td>Vodafone Smart ultra 6</td>\n",
              "    </tr>\n",
              "  </tbody>\n",
              "</table>\n",
              "<p>159 rows × 3 columns</p>\n",
              "</div>"
            ],
            "text/plain": [
              "     use_id platform                  device\n",
              "0     22787  android                GT-I9505\n",
              "1     22788  android                SM-G930F\n",
              "2     22789  android                SM-G930F\n",
              "3     22790  android                   D2303\n",
              "4     22792  android                SM-G361F\n",
              "..      ...      ...                     ...\n",
              "154   23043  android                SM-G900F\n",
              "155   23044  android                SM-G900F\n",
              "156   23046  android              Moto G (4)\n",
              "157   23049  android                SM-G900F\n",
              "158   23053  android  Vodafone Smart ultra 6\n",
              "\n",
              "[159 rows x 3 columns]"
            ]
          },
          "metadata": {},
          "execution_count": 347
        }
      ]
    },
    {
      "cell_type": "code",
      "metadata": {
        "id": "cXbMXD93_2nI"
      },
      "source": [
        ""
      ],
      "execution_count": null,
      "outputs": []
    }
  ]
}