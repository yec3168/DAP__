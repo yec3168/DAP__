{
  "nbformat": 4,
  "nbformat_minor": 0,
  "metadata": {
    "colab": {
      "name": "Project_201812033_연응찬",
      "provenance": [],
      "collapsed_sections": [],
      "authorship_tag": "ABX9TyObTHTmN35T6WNq1Bbax1dN",
      "include_colab_link": true
    },
    "kernelspec": {
      "name": "python3",
      "display_name": "Python 3"
    },
    "language_info": {
      "name": "python"
    }
  },
  "cells": [
    {
      "cell_type": "markdown",
      "metadata": {
        "id": "view-in-github",
        "colab_type": "text"
      },
      "source": [
        "<a href=\"https://colab.research.google.com/github/yec3168/DAP__/blob/main/Project_201812033_%EC%97%B0%EC%9D%91%EC%B0%AC.ipynb\" target=\"_parent\"><img src=\"https://colab.research.google.com/assets/colab-badge.svg\" alt=\"Open In Colab\"/></a>"
      ]
    },
    {
      "cell_type": "markdown",
      "metadata": {
        "id": "Dz59WyOolesl"
      },
      "source": [
        "# **Netflix 데이터 분석**\n",
        "\n",
        "                                                                          201812033 연응찬 \n",
        "이번에 제가 조사할 데이터는 Netflix 데이터로 평소에 여가시간으로 영화나 드라마 등 여러 프로그램을 시청을 하는데, Netflix에서 방영하는 프로그램들을 분류하고  수업에서 사용했던 **시각화하는 방법을 이용하여 보여주는 것을 목표로 하고** 진행하겠습니다.\n",
        "\n"
      ]
    },
    {
      "cell_type": "markdown",
      "metadata": {
        "id": "zhYWscFJk4V9"
      },
      "source": [
        "## **Kaggle에서 Datasheet 불러오기**\n",
        "\n"
      ]
    },
    {
      "cell_type": "markdown",
      "metadata": {
        "id": "ldWfFH0uZOUx"
      },
      "source": [
        "▶**Kaggle** 데이터 시트를 구글 **Colab**에 불러와 사용할수 있도록 하기 위해서는  필수적인 작업이 있다.\n",
        "\n",
        " 아래 작업이 kaggle에 데이터시트를 가져와서 사용하는 방법이다. \n",
        "\n",
        " 먼저, Kaggle에 들어가 로그인을 하고, 메뉴에서 Account에 들어가 Create New API Token을 눌러 Kaggle.json파일을 다운받는다.\n",
        " \n",
        " 그리고 Colab에 아래코드를 복사해 붙여놓고 파일선택으로 아까 다운받은 Kaggle.json파일을 선택한다."
      ]
    },
    {
      "cell_type": "code",
      "metadata": {
        "colab": {
          "resources": {
            "http://localhost:8080/nbextensions/google.colab/files.js": {
              "data": "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",
              "ok": true,
              "headers": [
                [
                  "content-type",
                  "application/javascript"
                ]
              ],
              "status": 200,
              "status_text": ""
            }
          },
          "base_uri": "https://localhost:8080/",
          "height": 297
        },
        "id": "p12tw2jqpwOa",
        "outputId": "9b728ba6-52ed-44c5-8bb1-d197cd05731b"
      },
      "source": [
        "#@title 기본 제목 텍스트\n",
        "# API Token 다운받기\n",
        "# 다운받은 API Token 업로드 하기\n",
        "!pip install kaggle\n",
        "from google.colab import files\n",
        "files.upload()"
      ],
      "execution_count": 1,
      "outputs": [
        {
          "output_type": "stream",
          "name": "stdout",
          "text": [
            "Requirement already satisfied: kaggle in /usr/local/lib/python3.7/dist-packages (1.5.12)\n",
            "Requirement already satisfied: tqdm in /usr/local/lib/python3.7/dist-packages (from kaggle) (4.62.3)\n",
            "Requirement already satisfied: python-dateutil in /usr/local/lib/python3.7/dist-packages (from kaggle) (2.8.2)\n",
            "Requirement already satisfied: six>=1.10 in /usr/local/lib/python3.7/dist-packages (from kaggle) (1.15.0)\n",
            "Requirement already satisfied: urllib3 in /usr/local/lib/python3.7/dist-packages (from kaggle) (1.24.3)\n",
            "Requirement already satisfied: requests in /usr/local/lib/python3.7/dist-packages (from kaggle) (2.23.0)\n",
            "Requirement already satisfied: certifi in /usr/local/lib/python3.7/dist-packages (from kaggle) (2021.10.8)\n",
            "Requirement already satisfied: python-slugify in /usr/local/lib/python3.7/dist-packages (from kaggle) (5.0.2)\n",
            "Requirement already satisfied: text-unidecode>=1.3 in /usr/local/lib/python3.7/dist-packages (from python-slugify->kaggle) (1.3)\n",
            "Requirement already satisfied: chardet<4,>=3.0.2 in /usr/local/lib/python3.7/dist-packages (from requests->kaggle) (3.0.4)\n",
            "Requirement already satisfied: idna<3,>=2.5 in /usr/local/lib/python3.7/dist-packages (from requests->kaggle) (2.10)\n"
          ]
        },
        {
          "output_type": "display_data",
          "data": {
            "text/html": [
              "\n",
              "     <input type=\"file\" id=\"files-6ad5bfb8-4176-4d80-a0dd-6eda9723eba4\" name=\"files[]\" multiple disabled\n",
              "        style=\"border:none\" />\n",
              "     <output id=\"result-6ad5bfb8-4176-4d80-a0dd-6eda9723eba4\">\n",
              "      Upload widget is only available when the cell has been executed in the\n",
              "      current browser session. Please rerun this cell to enable.\n",
              "      </output>\n",
              "      <script src=\"/nbextensions/google.colab/files.js\"></script> "
            ],
            "text/plain": [
              "<IPython.core.display.HTML object>"
            ]
          },
          "metadata": {}
        },
        {
          "output_type": "stream",
          "name": "stdout",
          "text": [
            "Saving kaggle.json to kaggle.json\n"
          ]
        },
        {
          "output_type": "execute_result",
          "data": {
            "text/plain": [
              "{'kaggle.json': b'{\"username\":\"yeonec\",\"key\":\"c3d16950a73eda7d5d808e6cf6495598\"}'}"
            ]
          },
          "metadata": {},
          "execution_count": 1
        }
      ]
    },
    {
      "cell_type": "markdown",
      "metadata": {
        "id": "C4VK-XwhBbMC"
      },
      "source": [
        "아래 코드는 아까 넣은 파일이 제대로 업로드 되었는지 확인하는 것이다."
      ]
    },
    {
      "cell_type": "code",
      "metadata": {
        "colab": {
          "base_uri": "https://localhost:8080/"
        },
        "id": "ycR0Y9E0bzq8",
        "outputId": "a84af0c6-d316-4cfc-d97d-80003af5f334"
      },
      "source": [
        "ls -1ha kaggle.json"
      ],
      "execution_count": 2,
      "outputs": [
        {
          "output_type": "stream",
          "name": "stdout",
          "text": [
            "kaggle.json\n"
          ]
        }
      ]
    },
    {
      "cell_type": "markdown",
      "metadata": {
        "id": "iz9MrjeHBpVT"
      },
      "source": [
        "아래 작업은 Kaggle API 를 사용하기 위해서 json 파일을 ~/.kaggle로 이동 시키는 작업이다."
      ]
    },
    {
      "cell_type": "code",
      "metadata": {
        "id": "NfHpRYnsbnWs"
      },
      "source": [
        "# json 파일 옮겨주기\n",
        "!mkdir -p ~/.kaggle\n",
        "!cp kaggle.json ~/.kaggle/\n",
        "\n",
        "# Permission Warning 이 일어나지 않도록 \n",
        "!chmod 600 ~/.kaggle/kaggle.json"
      ],
      "execution_count": 3,
      "outputs": []
    },
    {
      "cell_type": "markdown",
      "metadata": {
        "id": "kKsgrqS3CEQQ"
      },
      "source": [
        "내가 사용할 데이터시트를 사용하기 위한 작업이다."
      ]
    },
    {
      "cell_type": "code",
      "metadata": {
        "id": "TGsusCVBZksm",
        "colab": {
          "base_uri": "https://localhost:8080/"
        },
        "outputId": "e203158a-7265-405f-9cc9-2476efc082ca"
      },
      "source": [
        "!kaggle datasets download -d shivamb/netflix-shows\n",
        "\n",
        "!ls"
      ],
      "execution_count": 5,
      "outputs": [
        {
          "output_type": "stream",
          "name": "stdout",
          "text": [
            "401 - Unauthorized\n",
            "kaggle.json  netflix_titles.csv.zip  sample_data\n"
          ]
        }
      ]
    },
    {
      "cell_type": "code",
      "metadata": {
        "colab": {
          "base_uri": "https://localhost:8080/"
        },
        "id": "Mt6FXsqol7Za",
        "outputId": "ed80ef15-9aa0-47f9-ad5d-fc3db6f94a66"
      },
      "source": [
        "!unzip netflix_titles.csv.zip"
      ],
      "execution_count": 6,
      "outputs": [
        {
          "output_type": "stream",
          "name": "stdout",
          "text": [
            "Archive:  netflix_titles.csv.zip\n",
            "  inflating: netflix_titles.csv      \n"
          ]
        }
      ]
    },
    {
      "cell_type": "markdown",
      "metadata": {
        "id": "RgoKrJzlJsKY"
      },
      "source": [
        "![20211130_225625.png](data:image/png;base64,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)\n",
        "\n",
        "위에 작업을 완료하면 사진처럼 파일이 생긴다."
      ]
    },
    {
      "cell_type": "markdown",
      "metadata": {
        "id": "j25rDFxMrZ4y"
      },
      "source": [
        "# 데이터 읽기\n",
        "\n",
        "\n"
      ]
    },
    {
      "cell_type": "code",
      "metadata": {
        "id": "iSXTIU5UkDVg"
      },
      "source": [
        "import numpy as np\n",
        "import pandas as pd\n",
        "\n",
        "import matplotlib.pyplot as plt\n",
        "import seaborn as sns"
      ],
      "execution_count": 7,
      "outputs": []
    },
    {
      "cell_type": "code",
      "metadata": {
        "id": "jqwAFG5YlKpn",
        "colab": {
          "base_uri": "https://localhost:8080/",
          "height": 293
        },
        "outputId": "870a1901-1c2d-4346-e43b-ba5e634f64e7"
      },
      "source": [
        "netflix_Data = pd.read_csv('./netflix_titles.csv')\n",
        "\n",
        "netflix_Data.head()"
      ],
      "execution_count": 8,
      "outputs": [
        {
          "output_type": "execute_result",
          "data": {
            "text/html": [
              "<div>\n",
              "<style scoped>\n",
              "    .dataframe tbody tr th:only-of-type {\n",
              "        vertical-align: middle;\n",
              "    }\n",
              "\n",
              "    .dataframe tbody tr th {\n",
              "        vertical-align: top;\n",
              "    }\n",
              "\n",
              "    .dataframe thead th {\n",
              "        text-align: right;\n",
              "    }\n",
              "</style>\n",
              "<table border=\"1\" class=\"dataframe\">\n",
              "  <thead>\n",
              "    <tr style=\"text-align: right;\">\n",
              "      <th></th>\n",
              "      <th>show_id</th>\n",
              "      <th>type</th>\n",
              "      <th>title</th>\n",
              "      <th>director</th>\n",
              "      <th>cast</th>\n",
              "      <th>country</th>\n",
              "      <th>date_added</th>\n",
              "      <th>release_year</th>\n",
              "      <th>rating</th>\n",
              "      <th>duration</th>\n",
              "      <th>listed_in</th>\n",
              "      <th>description</th>\n",
              "    </tr>\n",
              "  </thead>\n",
              "  <tbody>\n",
              "    <tr>\n",
              "      <th>0</th>\n",
              "      <td>s1</td>\n",
              "      <td>Movie</td>\n",
              "      <td>Dick Johnson Is Dead</td>\n",
              "      <td>Kirsten Johnson</td>\n",
              "      <td>NaN</td>\n",
              "      <td>United States</td>\n",
              "      <td>September 25, 2021</td>\n",
              "      <td>2020</td>\n",
              "      <td>PG-13</td>\n",
              "      <td>90 min</td>\n",
              "      <td>Documentaries</td>\n",
              "      <td>As her father nears the end of his life, filmm...</td>\n",
              "    </tr>\n",
              "    <tr>\n",
              "      <th>1</th>\n",
              "      <td>s2</td>\n",
              "      <td>TV Show</td>\n",
              "      <td>Blood &amp; Water</td>\n",
              "      <td>NaN</td>\n",
              "      <td>Ama Qamata, Khosi Ngema, Gail Mabalane, Thaban...</td>\n",
              "      <td>South Africa</td>\n",
              "      <td>September 24, 2021</td>\n",
              "      <td>2021</td>\n",
              "      <td>TV-MA</td>\n",
              "      <td>2 Seasons</td>\n",
              "      <td>International TV Shows, TV Dramas, TV Mysteries</td>\n",
              "      <td>After crossing paths at a party, a Cape Town t...</td>\n",
              "    </tr>\n",
              "    <tr>\n",
              "      <th>2</th>\n",
              "      <td>s3</td>\n",
              "      <td>TV Show</td>\n",
              "      <td>Ganglands</td>\n",
              "      <td>Julien Leclercq</td>\n",
              "      <td>Sami Bouajila, Tracy Gotoas, Samuel Jouy, Nabi...</td>\n",
              "      <td>NaN</td>\n",
              "      <td>September 24, 2021</td>\n",
              "      <td>2021</td>\n",
              "      <td>TV-MA</td>\n",
              "      <td>1 Season</td>\n",
              "      <td>Crime TV Shows, International TV Shows, TV Act...</td>\n",
              "      <td>To protect his family from a powerful drug lor...</td>\n",
              "    </tr>\n",
              "    <tr>\n",
              "      <th>3</th>\n",
              "      <td>s4</td>\n",
              "      <td>TV Show</td>\n",
              "      <td>Jailbirds New Orleans</td>\n",
              "      <td>NaN</td>\n",
              "      <td>NaN</td>\n",
              "      <td>NaN</td>\n",
              "      <td>September 24, 2021</td>\n",
              "      <td>2021</td>\n",
              "      <td>TV-MA</td>\n",
              "      <td>1 Season</td>\n",
              "      <td>Docuseries, Reality TV</td>\n",
              "      <td>Feuds, flirtations and toilet talk go down amo...</td>\n",
              "    </tr>\n",
              "    <tr>\n",
              "      <th>4</th>\n",
              "      <td>s5</td>\n",
              "      <td>TV Show</td>\n",
              "      <td>Kota Factory</td>\n",
              "      <td>NaN</td>\n",
              "      <td>Mayur More, Jitendra Kumar, Ranjan Raj, Alam K...</td>\n",
              "      <td>India</td>\n",
              "      <td>September 24, 2021</td>\n",
              "      <td>2021</td>\n",
              "      <td>TV-MA</td>\n",
              "      <td>2 Seasons</td>\n",
              "      <td>International TV Shows, Romantic TV Shows, TV ...</td>\n",
              "      <td>In a city of coaching centers known to train I...</td>\n",
              "    </tr>\n",
              "  </tbody>\n",
              "</table>\n",
              "</div>"
            ],
            "text/plain": [
              "  show_id  ...                                        description\n",
              "0      s1  ...  As her father nears the end of his life, filmm...\n",
              "1      s2  ...  After crossing paths at a party, a Cape Town t...\n",
              "2      s3  ...  To protect his family from a powerful drug lor...\n",
              "3      s4  ...  Feuds, flirtations and toilet talk go down amo...\n",
              "4      s5  ...  In a city of coaching centers known to train I...\n",
              "\n",
              "[5 rows x 12 columns]"
            ]
          },
          "metadata": {},
          "execution_count": 8
        }
      ]
    },
    {
      "cell_type": "code",
      "metadata": {
        "colab": {
          "base_uri": "https://localhost:8080/"
        },
        "id": "LnC9wnRz2ASR",
        "outputId": "02e1a546-0be8-4c11-e70f-f763b4fc21cc"
      },
      "source": [
        ""
      ],
      "execution_count": 9,
      "outputs": [
        {
          "output_type": "execute_result",
          "data": {
            "text/plain": [
              "show_id            0\n",
              "type               0\n",
              "title              0\n",
              "director        2634\n",
              "cast             825\n",
              "country          831\n",
              "date_added        10\n",
              "release_year       0\n",
              "rating             4\n",
              "duration           3\n",
              "listed_in          0\n",
              "description        0\n",
              "dtype: int64"
            ]
          },
          "metadata": {},
          "execution_count": 9
        }
      ]
    },
    {
      "cell_type": "markdown",
      "metadata": {
        "id": "eg-I0iyWkate"
      },
      "source": [
        "discription은 말 그대로 영화나 Tv Show에 설명 부분이고, Director는 NaN값이 많고, 분석으로 적당하지 않으므로 제외해도 상관없으니 제외한다. cast와 listed_in도 마찬가지.\n"
      ]
    },
    {
      "cell_type": "code",
      "metadata": {
        "colab": {
          "base_uri": "https://localhost:8080/"
        },
        "id": "8z2tV0AVdzmS",
        "outputId": "111e0093-36e2-47fc-841d-a62d3a97517f"
      },
      "source": [
        "netflix_Data = netflix_Data.drop(columns=['description', 'cast','director', 'listed_in'], axis=1)\n",
        "netflix_Data.isnull().sum()"
      ],
      "execution_count": 10,
      "outputs": [
        {
          "output_type": "execute_result",
          "data": {
            "text/plain": [
              "show_id           0\n",
              "type              0\n",
              "title             0\n",
              "country         831\n",
              "date_added       10\n",
              "release_year      0\n",
              "rating            4\n",
              "duration          3\n",
              "dtype: int64"
            ]
          },
          "metadata": {},
          "execution_count": 10
        }
      ]
    },
    {
      "cell_type": "markdown",
      "metadata": {
        "id": "H7rafzC1ALjW"
      },
      "source": [
        "# Tv show와 Movie의 수\n",
        "\n",
        "넷플릭스에서 우리가 시청하고 있는 콘텐츠 중 Tv Show와 Movie의 수를 확인."
      ]
    },
    {
      "cell_type": "code",
      "metadata": {
        "colab": {
          "base_uri": "https://localhost:8080/"
        },
        "id": "h_dpjPs0Aa3Q",
        "outputId": "e5eb09e5-c02f-4b2d-b69d-57fdba407b69"
      },
      "source": [
        "movie = netflix_Data[netflix_Data['type'] == 'Movie']\n",
        "movie.count()"
      ],
      "execution_count": null,
      "outputs": [
        {
          "output_type": "execute_result",
          "data": {
            "text/plain": [
              "show_id         6131\n",
              "type            6131\n",
              "title           6131\n",
              "country         5691\n",
              "date_added      6131\n",
              "release_year    6131\n",
              "rating          6129\n",
              "duration        6128\n",
              "dtype: int64"
            ]
          },
          "metadata": {},
          "execution_count": 12
        }
      ]
    },
    {
      "cell_type": "code",
      "metadata": {
        "colab": {
          "base_uri": "https://localhost:8080/"
        },
        "id": "ifH5Wq-O02WG",
        "outputId": "f665d14d-b138-4c1b-f62a-f12415dd26d9"
      },
      "source": [
        "tv_show = netflix_Data[netflix_Data['type'] == 'TV Show']\n",
        "tv_show.count()"
      ],
      "execution_count": null,
      "outputs": [
        {
          "output_type": "execute_result",
          "data": {
            "text/plain": [
              "show_id         2676\n",
              "type            2676\n",
              "title           2676\n",
              "country         2285\n",
              "date_added      2666\n",
              "release_year    2676\n",
              "rating          2674\n",
              "duration        2676\n",
              "dtype: int64"
            ]
          },
          "metadata": {},
          "execution_count": 17
        }
      ]
    },
    {
      "cell_type": "code",
      "metadata": {
        "colab": {
          "base_uri": "https://localhost:8080/",
          "height": 297
        },
        "id": "WlO4QkajpMGr",
        "outputId": "3000f51a-8fe5-44d3-bd3f-57c506857dd8"
      },
      "source": [
        "sns.countplot(data=netflix_Data, x='type', palette=['black', 'gray'])"
      ],
      "execution_count": null,
      "outputs": [
        {
          "output_type": "execute_result",
          "data": {
            "text/plain": [
              "<matplotlib.axes._subplots.AxesSubplot at 0x7f3a30d96750>"
            ]
          },
          "metadata": {},
          "execution_count": 14
        },
        {
          "output_type": "display_data",
          "data": {
            "image/png": "[encoded data removed]",
            "text/plain": [
              "<Figure size 432x288 with 1 Axes>"
            ]
          },
          "metadata": {
            "needs_background": "light"
          }
        }
      ]
    },
    {
      "cell_type": "code",
      "metadata": {
        "colab": {
          "base_uri": "https://localhost:8080/",
          "height": 600
        },
        "id": "8yeLA-3kwesk",
        "outputId": "5bd7018e-a8e6-4de8-8dc9-56c2b648bdb9"
      },
      "source": [
        "rating_movie = movie['rating'].to_numpy()\n",
        "print(rating_movie)\n",
        "\n",
        "rating_tvshow = tv_show['rating'].to_numpy()\n",
        "print(rating_tvshow)\n",
        "\n",
        "plt.figure(figsize=(10, 4))\n",
        "sns.countplot(data = movie, x = rating_movie, color='black')\n",
        "plt.title(\"Movie\")\n",
        "\n",
        "plt.figure(figsize=(10, 4))\n",
        "sns.countplot(data = tv_show, x = rating_tvshow, color='gray')\n",
        "plt.title(\"Tv Show\")"
      ],
      "execution_count": null,
      "outputs": [
        {
          "output_type": "stream",
          "name": "stdout",
          "text": [
            "['PG-13' 'PG' 'TV-MA' ... 'R' 'PG' 'TV-14']\n",
            "['TV-MA' 'TV-MA' 'TV-MA' ... 'TV-Y7' 'TV-PG' 'TV-Y7']\n"
          ]
        },
        {
          "output_type": "execute_result",
          "data": {
            "text/plain": [
              "Text(0.5, 1.0, 'Tv Show')"
            ]
          },
          "metadata": {},
          "execution_count": 16
        },
        {
          "output_type": "display_data",
          "data": {
            "image/png": "[encoded data removed]",
            "text/plain": [
              "<Figure size 720x288 with 1 Axes>"
            ]
          },
          "metadata": {
            "needs_background": "light"
          }
        },
        {
          "output_type": "display_data",
          "data": {
            "image/png": "[encoded data removed]",
            "text/plain": [
              "<Figure size 720x288 with 1 Axes>"
            ]
          },
          "metadata": {
            "needs_background": "light"
          }
        }
      ]
    }
  ]
}